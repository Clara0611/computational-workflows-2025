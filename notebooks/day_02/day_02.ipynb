{
 "cells": [
  {
   "cell_type": "markdown",
   "metadata": {},
   "source": [
    "# Day 2\n",
    "\n",
    "Today, we will start using nf-core pipelines to find differentially abundant genes in our dataset. \n",
    "We are using data from the following paper: https://www.nature.com/articles/s41593-023-01350-3#Sec10"
   ]
  },
  {
   "cell_type": "markdown",
   "metadata": {
    "vscode": {
     "languageId": "plaintext"
    }
   },
   "source": [
    "1. Please take some time to read through the paper and understand their approach, hypotheses and goals."
   ]
  },
  {
   "cell_type": "markdown",
   "metadata": {
    "vscode": {
     "languageId": "plaintext"
    }
   },
   "source": [
    "What was the objective of the study?"
   ]
  },
  {
   "cell_type": "markdown",
   "metadata": {},
   "source": [
    "To understand the effects of long-term opioid therapy and addiction in patients with chonic pain, as well as to explore treatment with the HDAC1/HDAC2 inhibitor in individuals with opioid withdrawal."
   ]
  },
  {
   "cell_type": "markdown",
   "metadata": {
    "vscode": {
     "languageId": "plaintext"
    }
   },
   "source": [
    "What do the conditions mean?"
   ]
  },
  {
   "cell_type": "markdown",
   "metadata": {},
   "source": [
    "oxy: Oxycodone (Mice treated with oxycodone injections)\n",
    "\n",
    "\n",
    "sal: Saline (Control group)"
   ]
  },
  {
   "cell_type": "markdown",
   "metadata": {},
   "source": [
    "What do the genotypes mean?"
   ]
  },
  {
   "cell_type": "markdown",
   "metadata": {},
   "source": [
    "SNI: Spared nerve injury surgery (removal of 1-2 mm of the sciatic nerve and the hind leg)\n",
    "\n",
    "\n",
    "Sham: Sham mice underwent the same incision to the hind leg, but the nerve was left untouched (control group)"
   ]
  },
  {
   "cell_type": "markdown",
   "metadata": {},
   "source": [
    "Imagine you are the bioinformatician in the group who conducted this study. They hand you the raw files and ask you to analyze them.\n",
    "\n",
    "What would you do?\n",
    "\n",
    "Which groups would you compare to each other?\n",
    "\n",
    "Please also mention which outcome you would expect to see from each comparison."
   ]
  },
  {
   "cell_type": "markdown",
   "metadata": {},
   "source": [
    "I would use differential expression analysis to compare each group (sham-oxy, sni-sal and sni-oxy) to the control (sham-sal) and potentially the groups sni-oxy vs sni-sal, for a more direct analysis the effects of oxycodone on individuals with cronic nerve injury. \n",
    "\n",
    "From the comparison of sni-sal vs sham-sal mice, I would expect symptoms of prolonged nerve damage, such as inflammatory smptoms. Additionally, I would expect a reduction in social behavior due to chronic pain. \n",
    "\n",
    "From the comparison of sham-oxy vs sham-sal mice, I would expect to find \"regular\" withdrawal symptoms, potentially manifesting in transcriptional changes. In addition, I might expect to see a reduction in social behavior during the withdrawal period, that returns back to normal once the physical withdrawal symptoms recede. The same differences may occur in the comparison between sni-oxy and sni-sal mice, although symptoms may be more pronounced due to the additional burden of chronic nerve injury. \n",
    "\n",
    "From the comparison of sni-oxy vs sham-sal mice, I would expect a combination of the above symptoms. Potentially, additional symptom may arise from the combination of conditions. Similarly to the two other states, there might be social withdrawal symptoms. \n",
    "\n"
   ]
  },
  {
   "cell_type": "markdown",
   "metadata": {},
   "source": [
    "Your group gave you a very suboptimal excel sheet (conditions_runs_oxy_project.xlsx) to get the information you need for each run they uploaded to the SRA.<br>\n",
    "So, instead of directly diving into downloading the data and starting the analysis, you first need to sort the lazy table.<br>\n",
    "Use Python and Pandas to get the table into a more sensible order.<br>\n",
    "Then, perform some overview analysis and plot the results\n",
    "1. How many samples do you have per condition?\n",
    "2. How many samples do you have per genotype?\n",
    "3. How often do you have each condition per genotype?"
   ]
  },
  {
   "cell_type": "markdown",
   "metadata": {},
   "source": [
    "1. 8 samples per condition \n",
    "2. 8 samples per genotype \n",
    "3. 4 samples per condition per genotype"
   ]
  },
  {
   "cell_type": "code",
   "execution_count": 1,
   "metadata": {},
   "outputs": [],
   "source": [
    "import csv\n",
    "import pandas as pd\n",
    "import openpyxl"
   ]
  },
  {
   "cell_type": "code",
   "execution_count": 2,
   "metadata": {},
   "outputs": [],
   "source": [
    "base_counts = pd.read_csv(\"base_counts.csv\", index_col = \"Run\")\n",
    "conditions_data = pd.read_excel(\"conditions_runs_oxy_project.xlsx\", index_col=\"Run\")"
   ]
  },
  {
   "cell_type": "code",
   "execution_count": 3,
   "metadata": {},
   "outputs": [],
   "source": [
    "conditions_data[\"Bases\"] = base_counts.Bases"
   ]
  },
  {
   "cell_type": "code",
   "execution_count": 4,
   "metadata": {},
   "outputs": [
    {
     "name": "stdout",
     "output_type": "stream",
     "text": [
      "            Patient RNA-seq  DNA-seq condition: Sal Condition: Oxy  \\\n",
      "Run                                                                  \n",
      "SRR23195505       ?       x      NaN              x            NaN   \n",
      "SRR23195506       ?       x      NaN            NaN              x   \n",
      "SRR23195507       ?       x      NaN              x            NaN   \n",
      "SRR23195508       ?       x      NaN            NaN              x   \n",
      "SRR23195509       ?       x      NaN            NaN              x   \n",
      "SRR23195510       ?       x      NaN              x            NaN   \n",
      "SRR23195511       ?       x      NaN            NaN              x   \n",
      "SRR23195512       ?       x      NaN              x            NaN   \n",
      "SRR23195513       ?       x      NaN              x            NaN   \n",
      "SRR23195514       ?       x      NaN            NaN              x   \n",
      "SRR23195515       ?       x      NaN              x            NaN   \n",
      "SRR23195516       ?       x      NaN            NaN              x   \n",
      "SRR23195517       ?       x      NaN            NaN              x   \n",
      "SRR23195518       ?       x      NaN              x            NaN   \n",
      "SRR23195519       ?       x      NaN            NaN              x   \n",
      "SRR23195520       ?       x      NaN              x            NaN   \n",
      "\n",
      "            Genotype: SNI Genotype: Sham       Bases  \n",
      "Run                                                   \n",
      "SRR23195505             x            NaN  6922564500  \n",
      "SRR23195506           NaN              x  7859530800  \n",
      "SRR23195507           NaN              x  8063298900  \n",
      "SRR23195508             x            NaN  6927786900  \n",
      "SRR23195509             x            NaN  7003550100  \n",
      "SRR23195510             x            NaN  7377388500  \n",
      "SRR23195511           NaN              x  6456390900  \n",
      "SRR23195512           NaN              x  7462857900  \n",
      "SRR23195513             x            NaN  8099181600  \n",
      "SRR23195514           NaN              x  7226808600  \n",
      "SRR23195515           NaN              x  8169101700  \n",
      "SRR23195516             x            NaN  6203117700  \n",
      "SRR23195517             x            NaN  6863840400  \n",
      "SRR23195518             x            NaN  7908500400  \n",
      "SRR23195519           NaN              x  6996050100  \n",
      "SRR23195520           NaN              x  7858146000  \n"
     ]
    }
   ],
   "source": [
    "print(conditions_data)"
   ]
  },
  {
   "cell_type": "code",
   "execution_count": 5,
   "metadata": {},
   "outputs": [
    {
     "name": "stderr",
     "output_type": "stream",
     "text": [
      "/tmp/ipykernel_1788/1900438681.py:2: FutureWarning: Downcasting object dtype arrays on .fillna, .ffill, .bfill is deprecated and will change in a future version. Call result.infer_objects(copy=False) instead. To opt-in to the future behavior, set `pd.set_option('future.no_silent_downcasting', True)`\n",
      "  df = df.fillna(False)\n",
      "/tmp/ipykernel_1788/1900438681.py:3: FutureWarning: Downcasting behavior in `replace` is deprecated and will be removed in a future version. To retain the old behavior, explicitly call `result.infer_objects(copy=False)`. To opt-in to the future behavior, set `pd.set_option('future.no_silent_downcasting', True)`\n",
      "  df = df.replace(\"x\", True)\n"
     ]
    }
   ],
   "source": [
    "df = conditions_data\n",
    "df = df.fillna(False)\n",
    "df = df.replace(\"x\", True)\n",
    "df.sort_values(by=\"Bases\")\n",
    "df.to_csv(\"conditions.csv\")"
   ]
  },
  {
   "cell_type": "markdown",
   "metadata": {},
   "source": [
    "They were so kind to also provide you with the information of the number of bases per run, so that you can know how much space the data will take on your Cluster.<br>\n",
    "Add a new column to your fancy table with this information (base_counts.csv) and sort your dataframe according to this information and the condition.\n",
    "\n",
    "Then select the 2 smallest runs from your dataset and download them from SRA (maybe an nf-core pipeline can help here?...)"
   ]
  },
  {
   "cell_type": "code",
   "execution_count": 6,
   "metadata": {},
   "outputs": [
    {
     "name": "stdout",
     "output_type": "stream",
     "text": [
      "\u001b[33mNextflow 25.04.8 is available - Please consider updating your version to it\u001b[m\n",
      "\n",
      "\u001b[1m\u001b[38;5;232m\u001b[48;5;43m N E X T F L O W \u001b[0;2m  ~  \u001b[mversion 25.04.7\u001b[m\n",
      "\u001b[K\n",
      "Launching\u001b[35m `https://github.com/nf-core/fetchngs` \u001b[0;2m[\u001b[0;1;36mbig_edison\u001b[0;2m] DSL2 - \u001b[36mrevision: \u001b[0;36m8ec2d934f9 [master]\u001b[m\n",
      "\u001b[K\n",
      "\u001b[33mWARN: Access to undefined parameter `monochromeLogs` -- Initialise it to a default value eg. `params.monochromeLogs = some_value`\u001b[39m\u001b[K\n",
      "\n",
      "\n",
      "-\u001b[2m----------------------------------------------------\u001b[0m-\n",
      "                                        \u001b[0;32m,--.\u001b[0;30m/\u001b[0;32m,-.\u001b[0m\n",
      "\u001b[0;34m        ___     __   __   __   ___     \u001b[0;32m/,-._.--~'\u001b[0m\n",
      "\u001b[0;34m  |\\ | |__  __ /  ` /  \\ |__) |__         \u001b[0;33m}  {\u001b[0m\n",
      "\u001b[0;34m  | \\| |       \\__, \\__/ |  \\ |___     \u001b[0;32m\\`-._,-`-,\u001b[0m\n",
      "                                        \u001b[0;32m`._,._,'\u001b[0m\n",
      "\u001b[0;35m  nf-core/fetchngs v1.12.0-g8ec2d93\u001b[0m\n",
      "-\u001b[2m----------------------------------------------------\u001b[0m-\n",
      "\u001b[1mCore Nextflow options\u001b[0m\n",
      "  \u001b[0;34mrevision       : \u001b[0;32mmaster\u001b[0m\n",
      "  \u001b[0;34mrunName        : \u001b[0;32mbig_edison\u001b[0m\n",
      "  \u001b[0;34mcontainerEngine: \u001b[0;32mdocker\u001b[0m\n",
      "  \u001b[0;34mlaunchDir      : \u001b[0;32m/home/clara/computational-workflows-2025/notebooks/day_02\u001b[0m\n",
      "  \u001b[0;34mworkDir        : \u001b[0;32m/home/clara/computational-workflows-2025/notebooks/day_02/work\u001b[0m\n",
      "  \u001b[0;34mprojectDir     : \u001b[0;32m/home/clara/.nextflow/assets/nf-core/fetchngs\u001b[0m\n",
      "  \u001b[0;34muserName       : \u001b[0;32mclara\u001b[0m\n",
      "  \u001b[0;34mprofile        : \u001b[0;32mdocker\u001b[0m\n",
      "  \u001b[0;34mconfigFiles    : \u001b[0;32m\u001b[0m\n",
      "\n",
      "\u001b[1mInput/output options\u001b[0m\n",
      "  \u001b[0;34minput          : \u001b[0;32m./ids.csv\u001b[0m\n",
      "  \u001b[0;34moutdir         : \u001b[0;32m./results\u001b[0m\n",
      "\n",
      "!! Only displaying parameters that differ from the pipeline defaults !!\n",
      "-\u001b[2m----------------------------------------------------\u001b[0m-\n",
      "If you use nf-core/fetchngs for your analysis please cite:\n",
      "\n",
      "* The pipeline\n",
      "  https://doi.org/10.5281/zenodo.5070524\n",
      "\n",
      "* The nf-core framework\n",
      "  https://doi.org/10.1038/s41587-020-0439-x\n",
      "\n",
      "* Software dependencies\n",
      "  https://github.com/nf-core/fetchngs/blob/master/CITATIONS.md\n",
      "-\u001b[2m----------------------------------------------------\u001b[0m-\n",
      "\u001b[2m[\u001b[0;34m-        \u001b[0;2m] \u001b[0;2mNFC…NGS:SRA:\u001b[mSRA_IDS_TO_RUNINFO -\u001b[K\n",
      "\u001b[2m[\u001b[0;34m-        \u001b[0;2m] \u001b[0;2mNFC…NGS:SRA:\u001b[mSRA_RUNINFO_TO_FTP -\u001b[K\n",
      "\u001b[3A\n",
      "\u001b[2m[\u001b[0;34m-        \u001b[0;2m] \u001b[0;2mNFC…NGS:SRA:\u001b[mSRA_IDS_TO_RUNINFO -\u001b[K\n",
      "\u001b[2m[\u001b[0;34m-        \u001b[0;2m] \u001b[0;2mNFC…NGS:SRA:\u001b[mSRA_RUNINFO_TO_FTP -\u001b[K\n",
      "\u001b[2m[\u001b[0;34m-        \u001b[0;2m] \u001b[0;2mNFC…FETCHNGS:SRA:\u001b[mSRA_FASTQ_FTP -\u001b[K\n",
      "\u001b[2m[\u001b[0;34m-        \u001b[0;2m] \u001b[0;2m\u001b[mNFC…USTOM_SRATOOLSNCBISETTINGS -\u001b[K\n",
      "\u001b[2m[\u001b[0;34m-        \u001b[0;2m] \u001b[0;2mNFC…SRATOOLS:\u001b[mSRATOOLS_PREFETCH -\u001b[K\n",
      "\u001b[2m[\u001b[0;34m-        \u001b[0;2m] \u001b[0;2mNFC…TOOLS:\u001b[mSRATOOLS_FASTERQDUMP -\u001b[K\n",
      "\u001b[2m[\u001b[0;34m-        \u001b[0;2m] \u001b[0;2mNFCORE_FETCHNGS:SRA:\u001b[mASPERA_CLI -\u001b[K\n",
      "\u001b[2m[\u001b[0;34m-        \u001b[0;2m] \u001b[0;2mNFC…NGS:SRA:\u001b[mSRA_TO_SAMPLESHEET -\u001b[K\n",
      "\u001b[2m[\u001b[0;34m-        \u001b[0;2m] \u001b[0;2mNFC…RA:\u001b[mMULTIQC_MAPPINGS_CONFIG -\u001b[K\n",
      "\u001b[10A\n",
      "\u001b[2mexecutor >  local (2)\u001b[m\u001b[K\n",
      "\u001b[2m[\u001b[0;34mae/a86118\u001b[0;2m] \u001b[0;2m\u001b[mNFC…S_TO_RUNINFO\u001b[33;2m (\u001b[0;33mSRR23195511\u001b[2m)\u001b[m\u001b[2m |\u001b[m 0 of 2\u001b[K\n",
      "\u001b[2m[\u001b[0;34m-        \u001b[0;2m] \u001b[0;2mNFC…NGS:SRA:\u001b[mSRA_RUNINFO_TO_FTP -\u001b[K\n",
      "\u001b[2m[\u001b[0;34m-        \u001b[0;2m] \u001b[0;2mNFC…FETCHNGS:SRA:\u001b[mSRA_FASTQ_FTP -\u001b[K\n",
      "\u001b[2m[\u001b[0;34m-        \u001b[0;2m] \u001b[0;2m\u001b[mNFC…USTOM_SRATOOLSNCBISETTINGS -\u001b[K\n",
      "\u001b[2m[\u001b[0;34m-        \u001b[0;2m] \u001b[0;2mNFC…SRATOOLS:\u001b[mSRATOOLS_PREFETCH -\u001b[K\n",
      "\u001b[2m[\u001b[0;34m-        \u001b[0;2m] \u001b[0;2mNFC…TOOLS:\u001b[mSRATOOLS_FASTERQDUMP -\u001b[K\n",
      "\u001b[2m[\u001b[0;34m-        \u001b[0;2m] \u001b[0;2mNFCORE_FETCHNGS:SRA:\u001b[mASPERA_CLI -\u001b[K\n",
      "\u001b[2m[\u001b[0;34m-        \u001b[0;2m] \u001b[0;2mNFC…NGS:SRA:\u001b[mSRA_TO_SAMPLESHEET -\u001b[K\n",
      "\u001b[2m[\u001b[0;34m-        \u001b[0;2m] \u001b[0;2mNFC…RA:\u001b[mMULTIQC_MAPPINGS_CONFIG -\u001b[K\n",
      "\u001b[11A\n",
      "\u001b[2mexecutor >  local (4)\u001b[m\u001b[K\n",
      "\u001b[2m[\u001b[0;34mae/a86118\u001b[0;2m] \u001b[0;2m\u001b[mNFC…S_TO_RUNINFO\u001b[33;2m (\u001b[0;33mSRR23195511\u001b[2m)\u001b[m\u001b[2m |\u001b[m 2 of 2\u001b[32m ✔\u001b[m\u001b[K\n",
      "\u001b[2m[\u001b[0;34m87/63b811\u001b[0;2m] \u001b[0;2mNFC…SRA:\u001b[mSRA_RUNINFO_TO_FTP\u001b[33;2m (\u001b[0;33m2\u001b[2m)\u001b[m\u001b[2m |\u001b[m 0 of 2\u001b[K\n",
      "\u001b[2m[\u001b[0;34m-        \u001b[0;2m] \u001b[0;2mNFC…FETCHNGS:SRA:\u001b[mSRA_FASTQ_FTP -\u001b[K\n",
      "\u001b[2m[\u001b[0;34m-        \u001b[0;2m] \u001b[0;2m\u001b[mNFC…USTOM_SRATOOLSNCBISETTINGS -\u001b[K\n",
      "\u001b[2m[\u001b[0;34m-        \u001b[0;2m] \u001b[0;2mNFC…SRATOOLS:\u001b[mSRATOOLS_PREFETCH -\u001b[K\n",
      "\u001b[2m[\u001b[0;34m-        \u001b[0;2m] \u001b[0;2mNFC…TOOLS:\u001b[mSRATOOLS_FASTERQDUMP -\u001b[K\n",
      "\u001b[2m[\u001b[0;34m-        \u001b[0;2m] \u001b[0;2mNFCORE_FETCHNGS:SRA:\u001b[mASPERA_CLI -\u001b[K\n",
      "\u001b[2m[\u001b[0;34m-        \u001b[0;2m] \u001b[0;2mNFC…NGS:SRA:\u001b[mSRA_TO_SAMPLESHEET -\u001b[K\n",
      "\u001b[2m[\u001b[0;34m-        \u001b[0;2m] \u001b[0;2mNFC…RA:\u001b[mMULTIQC_MAPPINGS_CONFIG -\u001b[K\n",
      "\u001b[11A\n",
      "\u001b[2mexecutor >  local (5)\u001b[m\u001b[K\n",
      "\u001b[2m[\u001b[0;34mae/a86118\u001b[0;2m] \u001b[0;2m\u001b[mNFC…S_TO_RUNINFO\u001b[33;2m (\u001b[0;33mSRR23195511\u001b[2m)\u001b[m\u001b[2m |\u001b[m 2 of 2\u001b[32m ✔\u001b[m\u001b[K\n",
      "\u001b[2m[\u001b[0;34m01/ab2672\u001b[0;2m] \u001b[0;2mNFC…SRA:\u001b[mSRA_RUNINFO_TO_FTP\u001b[33;2m (\u001b[0;33m1\u001b[2m)\u001b[m\u001b[2m |\u001b[m 1 of 2\u001b[K\n",
      "\u001b[2m[\u001b[0;34m7c/5c48e2\u001b[0;2m] \u001b[0;2m\u001b[mNFC…\u001b[33;2m (\u001b[0;33mSRX19144486_SRR23195516\u001b[2m)\u001b[m\u001b[2m |\u001b[m 0 of 1\u001b[K\n",
      "\u001b[2m[\u001b[0;34m-        \u001b[0;2m] \u001b[0;2m\u001b[mNFC…USTOM_SRATOOLSNCBISETTINGS -\u001b[K\n",
      "\u001b[2m[\u001b[0;34m-        \u001b[0;2m] \u001b[0;2mNFC…SRATOOLS:\u001b[mSRATOOLS_PREFETCH -\u001b[K\n",
      "\u001b[2m[\u001b[0;34m-        \u001b[0;2m] \u001b[0;2mNFC…TOOLS:\u001b[mSRATOOLS_FASTERQDUMP -\u001b[K\n",
      "\u001b[2m[\u001b[0;34m-        \u001b[0;2m] \u001b[0;2mNFCORE_FETCHNGS:SRA:\u001b[mASPERA_CLI -\u001b[K\n",
      "\u001b[2m[\u001b[0;34m-        \u001b[0;2m] \u001b[0;2mNFC…NGS:SRA:\u001b[mSRA_TO_SAMPLESHEET -\u001b[K\n",
      "\u001b[2m[\u001b[0;34m-        \u001b[0;2m] \u001b[0;2mNFC…RA:\u001b[mMULTIQC_MAPPINGS_CONFIG -\u001b[K\n",
      "\u001b[11A\n",
      "\u001b[2mexecutor >  local (6)\u001b[m\u001b[K\n",
      "\u001b[2m[\u001b[0;34mae/a86118\u001b[0;2m] \u001b[0;2m\u001b[mNFC…S_TO_RUNINFO\u001b[33;2m (\u001b[0;33mSRR23195511\u001b[2m)\u001b[m\u001b[2m |\u001b[m 2 of 2\u001b[32m ✔\u001b[m\u001b[K\n",
      "\u001b[2m[\u001b[0;34m87/63b811\u001b[0;2m] \u001b[0;2mNFC…SRA:\u001b[mSRA_RUNINFO_TO_FTP\u001b[33;2m (\u001b[0;33m2\u001b[2m)\u001b[m\u001b[2m |\u001b[m 2 of 2\u001b[32m ✔\u001b[m\u001b[K\n",
      "\u001b[2m[\u001b[0;34m25/20adb9\u001b[0;2m] \u001b[0;2m\u001b[mNFC…\u001b[33;2m (\u001b[0;33mSRX19144488_SRR23195511\u001b[2m)\u001b[m\u001b[2m |\u001b[m 0 of 2\u001b[K\n",
      "\u001b[2m[\u001b[0;34m-        \u001b[0;2m] \u001b[0;2m\u001b[mNFC…USTOM_SRATOOLSNCBISETTINGS -\u001b[K\n",
      "\u001b[2m[\u001b[0;34m-        \u001b[0;2m] \u001b[0;2mNFC…SRATOOLS:\u001b[mSRATOOLS_PREFETCH -\u001b[K\n",
      "\u001b[2m[\u001b[0;34m-        \u001b[0;2m] \u001b[0;2mNFC…TOOLS:\u001b[mSRATOOLS_FASTERQDUMP -\u001b[K\n",
      "\u001b[2m[\u001b[0;34m-        \u001b[0;2m] \u001b[0;2mNFCORE_FETCHNGS:SRA:\u001b[mASPERA_CLI -\u001b[K\n",
      "\u001b[2m[\u001b[0;34m-        \u001b[0;2m] \u001b[0;2mNFC…NGS:SRA:\u001b[mSRA_TO_SAMPLESHEET -\u001b[K\n",
      "\u001b[2m[\u001b[0;34m-        \u001b[0;2m] \u001b[0;2mNFC…RA:\u001b[mMULTIQC_MAPPINGS_CONFIG -\u001b[K\n",
      "One more CTRL+C to force exit\n",
      "\n",
      "-\u001b[0;35m[nf-core/fetchngs]\u001b[0;31m Pipeline completed with errors\u001b[0m-\n",
      "WARN: =============================================================================\n",
      "  Please double-check the samplesheet that has been auto-created by the pipeline.\n",
      "\n",
      "  Public databases don't reliably hold information such as strandedness\n",
      "  information, controls etc\n",
      "\n",
      "  All of the sample metadata obtained from the ENA has been appended\n",
      "  as additional columns to help you manually curate the samplesheet before\n",
      "  running nf-core/other pipelines.\n",
      "===================================================================================\n",
      "WARN: Killing running tasks (2)\n",
      "\u001b[11A\n",
      "\u001b[2mexecutor >  local (6)\u001b[m\u001b[K\n",
      "\u001b[2m[\u001b[0;34mae/a86118\u001b[0;2m] \u001b[0;2m\u001b[mNFC…S_TO_RUNINFO\u001b[33;2m (\u001b[0;33mSRR23195511\u001b[2m)\u001b[m\u001b[2m |\u001b[m 2 of 2\u001b[32m ✔\u001b[m\u001b[K\n",
      "\u001b[2m[\u001b[0;34m87/63b811\u001b[0;2m] \u001b[0;2mNFC…SRA:\u001b[mSRA_RUNINFO_TO_FTP\u001b[33;2m (\u001b[0;33m2\u001b[2m)\u001b[m\u001b[2m |\u001b[m 2 of 2\u001b[32m ✔\u001b[m\u001b[K\n",
      "\u001b[2m[\u001b[0;34m25/20adb9\u001b[0;2m] \u001b[0;2m\u001b[mNFC…\u001b[33;2m (\u001b[0;33mSRX19144488_SRR23195511\u001b[2m)\u001b[m\u001b[2m |\u001b[m 0 of 2\u001b[K\n",
      "\u001b[2m[\u001b[0;34m-        \u001b[0;2m] \u001b[0;2m\u001b[mNFC…USTOM_SRATOOLSNCBISETTINGS -\u001b[K\n",
      "\u001b[2m[\u001b[0;34m-        \u001b[0;2m] \u001b[0;2mNFC…SRATOOLS:\u001b[mSRATOOLS_PREFETCH -\u001b[K\n",
      "\u001b[2m[\u001b[0;34m-        \u001b[0;2m] \u001b[0;2mNFC…TOOLS:\u001b[mSRATOOLS_FASTERQDUMP -\u001b[K\n",
      "\u001b[2m[\u001b[0;34m-        \u001b[0;2m] \u001b[0;2mNFCORE_FETCHNGS:SRA:\u001b[mASPERA_CLI -\u001b[K\n",
      "\u001b[2m[\u001b[0;34m-        \u001b[0;2m] \u001b[0;2mNFC…NGS:SRA:\u001b[mSRA_TO_SAMPLESHEET -\u001b[K\n",
      "\u001b[2m[\u001b[0;34m-        \u001b[0;2m] \u001b[0;2mNFC…RA:\u001b[mMULTIQC_MAPPINGS_CONFIG -\u001b[K\n"
     ]
    }
   ],
   "source": [
    "#Runs selected: SRR23195516 and SRR2319551\n",
    "\n",
    "!nextflow run nf-core/fetchngs --input ./ids.csv --outdir ./results -profile docker"
   ]
  },
  {
   "cell_type": "markdown",
   "metadata": {},
   "source": [
    "While your files are downloading, get back to the paper and explain how you would try to reproduce the analysis.<br>\n",
    "When you are done with this shout, so we can discuss the different ideas."
   ]
  },
  {
   "cell_type": "markdown",
   "metadata": {},
   "source": [
    "By reading the methods part and trying to recreate their exact approach - however, their methods part is not very detailed/specific"
   ]
  }
 ],
 "metadata": {
  "kernelspec": {
   "display_name": "workflows",
   "language": "python",
   "name": "python3"
  },
  "language_info": {
   "codemirror_mode": {
    "name": "ipython",
    "version": 3
   },
   "file_extension": ".py",
   "mimetype": "text/x-python",
   "name": "python",
   "nbconvert_exporter": "python",
   "pygments_lexer": "ipython3",
   "version": "3.13.7"
  }
 },
 "nbformat": 4,
 "nbformat_minor": 2
}
