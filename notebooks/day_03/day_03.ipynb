{
 "cells": [
  {
   "cell_type": "markdown",
   "metadata": {},
   "source": [
    "# Differential expression analysis\n"
   ]
  },
  {
   "cell_type": "markdown",
   "metadata": {},
   "source": [
    "You have run the nf-core/rnaseq pipeline and checked the first quality control metrics of your fastq files. This was, however, only the primary analysis and we want to take it further.\n",
    "\n",
    "Due to the computational demand of the pipeline, you only ran the pipeline on two of the 16 samples in the study yesterday. We provide you an essential output of nf-core/rnaseq pipeline in the `data` folder: It contains the combined epression matrix as produced by Salmon, which provides transcript levels for each gene (rows) and each sample (columns).\n"
   ]
  },
  {
   "cell_type": "markdown",
   "metadata": {},
   "source": [
    "We would now like to understand exactly the difference between the expression in our groups of mice. \n",
    "Which pipeline would you use for this?"
   ]
  },
  {
   "cell_type": "markdown",
   "metadata": {
    "vscode": {
     "languageId": "shellscript"
    }
   },
   "source": [
    "differentialabundance"
   ]
  },
  {
   "cell_type": "markdown",
   "metadata": {},
   "source": [
    "Have a close look at the pipeline's \"Usage\" page on the [nf-core docs](nf-co.re). You will need to create a samplesheet (based on the column names in the provided matrix)."
   ]
  },
  {
   "cell_type": "code",
   "execution_count": 6,
   "metadata": {
    "vscode": {
     "languageId": "shellscript"
    }
   },
   "outputs": [],
   "source": [
    "# I missed this step in the course and am not sure which files to use to do this. Going forward, I used the samplesheet_solution.csv file provided by you."
   ]
  },
  {
   "cell_type": "markdown",
   "metadata": {},
   "source": [
    "Please paste here the command you used. You may need to inspect the provided expression matrix more closely and create additional files, like a samplesheet (based on the column names) or a contrast file (there happens to also be one in `data/` that you can use)."
   ]
  },
  {
   "cell_type": "code",
   "execution_count": 3,
   "metadata": {
    "vscode": {
     "languageId": "shellscript"
    }
   },
   "outputs": [
    {
     "name": "stdout",
     "output_type": "stream",
     "text": [
      "\u001b[33mNextflow 25.04.8 is available - Please consider updating your version to it\u001b[m\n",
      "\n",
      "\u001b[1m\u001b[38;5;232m\u001b[48;5;43m N E X T F L O W \u001b[0;2m  ~  \u001b[mversion 25.04.7\u001b[m\n",
      "\u001b[K\n",
      "Launching\u001b[35m `https://github.com/nf-core/differentialabundance` \u001b[0;2m[\u001b[0;1;36msleepy_cantor\u001b[0;2m] DSL2 - \u001b[36mrevision: \u001b[0;36m3dd360fed0 [1.5.0]\u001b[m\n",
      "\u001b[K\n",
      "\u001b[33mWARN: Access to undefined parameter `monochromeLogs` -- Initialise it to a default value eg. `params.monochromeLogs = some_value`\u001b[39m\u001b[K\n",
      "\n",
      "\n",
      "-\u001b[2m----------------------------------------------------\u001b[0m-\n",
      "                                        \u001b[0;32m,--.\u001b[0;30m/\u001b[0;32m,-.\u001b[0m\n",
      "\u001b[0;34m        ___     __   __   __   ___     \u001b[0;32m/,-._.--~'\u001b[0m\n",
      "\u001b[0;34m  |\\ | |__  __ /  ` /  \\ |__) |__         \u001b[0;33m}  {\u001b[0m\n",
      "\u001b[0;34m  | \\| |       \\__, \\__/ |  \\ |___     \u001b[0;32m\\`-._,-`-,\u001b[0m\n",
      "                                        \u001b[0;32m`._,._,'\u001b[0m\n",
      "\u001b[0;35m  nf-core/differentialabundance v1.5.0-g3dd360f\u001b[0m\n",
      "-\u001b[2m----------------------------------------------------\u001b[0m-\n",
      "\u001b[1mCore Nextflow options\u001b[0m\n",
      "  \u001b[0;34mrevision                    : \u001b[0;32m1.5.0\u001b[0m\n",
      "  \u001b[0;34mrunName                     : \u001b[0;32msleepy_cantor\u001b[0m\n",
      "  \u001b[0;34mcontainerEngine             : \u001b[0;32mdocker\u001b[0m\n",
      "  \u001b[0;34mcontainer                   : \u001b[0;32m[RMARKDOWNNOTEBOOK:biocontainers/r-shinyngs:1.8.8--r43hdfd78af_0]\u001b[0m\n",
      "  \u001b[0;34mlaunchDir                   : \u001b[0;32m/home/clara/computational-workflows-2025/notebooks/day_03\u001b[0m\n",
      "  \u001b[0;34mworkDir                     : \u001b[0;32m/home/clara/computational-workflows-2025/notebooks/day_03/work\u001b[0m\n",
      "  \u001b[0;34mprojectDir                  : \u001b[0;32m/home/clara/.nextflow/assets/nf-core/differentialabundance\u001b[0m\n",
      "  \u001b[0;34muserName                    : \u001b[0;32mclara\u001b[0m\n",
      "  \u001b[0;34mprofile                     : \u001b[0;32mrnaseq,docker\u001b[0m\n",
      "  \u001b[0;34mconfigFiles                 : \u001b[0;32m\u001b[0m\n",
      "\n",
      "\u001b[1mInput/output options\u001b[0m\n",
      "  \u001b[0;34minput                       : \u001b[0;32mdata/samplesheet_solution.csv\u001b[0m\n",
      "  \u001b[0;34mcontrasts                   : \u001b[0;32mdata/contrasts.csv\u001b[0m\n",
      "  \u001b[0;34moutdir                      : \u001b[0;32mdifferentialabundance_out\u001b[0m\n",
      "\n",
      "\u001b[1mAbundance values\u001b[0m\n",
      "  \u001b[0;34mmatrix                      : \u001b[0;32mdata/salmon.merged.gene_counts.tsv\u001b[0m\n",
      "  \u001b[0;34maffy_cel_files_archive      : \u001b[0;32mnull\u001b[0m\n",
      "  \u001b[0;34mquerygse                    : \u001b[0;32mnull\u001b[0m\n",
      "\n",
      "\u001b[1mAffy input options\u001b[0m\n",
      "  \u001b[0;34maffy_cdfname                : \u001b[0;32mnull\u001b[0m\n",
      "\n",
      "\u001b[1mExploratory analysis\u001b[0m\n",
      "  \u001b[0;34mexploratory_log2_assays     : \u001b[0;32mraw,normalised\u001b[0m\n",
      "\n",
      "\u001b[1mDifferential analysis\u001b[0m\n",
      "  \u001b[0;34mdifferential_file_suffix    : \u001b[0;32m.deseq2.results.tsv\u001b[0m\n",
      "\n",
      "\u001b[1mLimma specific options (microarray only)\u001b[0m\n",
      "  \u001b[0;34mlimma_spacing               : \u001b[0;32mnull\u001b[0m\n",
      "  \u001b[0;34mlimma_block                 : \u001b[0;32mnull\u001b[0m\n",
      "  \u001b[0;34mlimma_correlation           : \u001b[0;32mnull\u001b[0m\n",
      "\n",
      "\u001b[1mgprofiler2\u001b[0m\n",
      "  \u001b[0;34mgprofiler2_correction_method: \u001b[0;32mgSCS\u001b[0m\n",
      "  \u001b[0;34mgprofiler2_background_file  : \u001b[0;32mauto\u001b[0m\n",
      "\n",
      "\u001b[1mShiny app settings\u001b[0m\n",
      "  \u001b[0;34mshinyngs_shinyapps_account  : \u001b[0;32mnull\u001b[0m\n",
      "  \u001b[0;34mshinyngs_shinyapps_app_name : \u001b[0;32mnull\u001b[0m\n",
      "\n",
      "\u001b[1mOptions related to gene set analysis\u001b[0m\n",
      "  \u001b[0;34mgene_sets_files             : \u001b[0;32mnull\u001b[0m\n",
      "\n",
      "\u001b[1mReporting options\u001b[0m\n",
      "  \u001b[0;34mreport_title                : \u001b[0;32mnull\u001b[0m\n",
      "  \u001b[0;34mreport_author               : \u001b[0;32mnull\u001b[0m\n",
      "  \u001b[0;34mreport_description          : \u001b[0;32mnull\u001b[0m\n",
      "\n",
      "\u001b[1mInstitutional config options\u001b[0m\n",
      "  \u001b[0;34mconfig_profile_name         : \u001b[0;32mRNA-seq profile\u001b[0m\n",
      "  \u001b[0;34mconfig_profile_description  : \u001b[0;32mSettings for RNA-seq analysis\u001b[0m\n",
      "\n",
      "!! Only displaying parameters that differ from the pipeline defaults !!\n",
      "-\u001b[2m----------------------------------------------------\u001b[0m-\n",
      "If you use nf-core/differentialabundance for your analysis please cite:\n",
      "\n",
      "* The pipeline\n",
      "  https://doi.org/10.5281/zenodo.7568000\n",
      "\n",
      "* The nf-core framework\n",
      "  https://doi.org/10.1038/s41587-020-0439-x\n",
      "\n",
      "* Software dependencies\n",
      "  https://github.com/nf-core/differentialabundance/blob/master/CITATIONS.md\n",
      "-\u001b[2m----------------------------------------------------\u001b[0m-\n",
      "\u001b[33mWARN: Access to undefined parameter `gtf` -- Initialise it to a default value eg. `params.gtf = some_value`\u001b[39m\u001b[K\n",
      "\u001b[2m[\u001b[0;34m-        \u001b[0;2m] \u001b[0;2mNFC…RENTIALABUNDANCE:\u001b[mVALIDATOR -\u001b[K\n",
      "\u001b[2m[\u001b[0;34m-        \u001b[0;2m] \u001b[0;2mNFC…NDANCE:\u001b[mCUSTOM_MATRIXFILTER -\u001b[K\n",
      "\u001b[3A\n",
      "\u001b[2m[\u001b[0;34m-        \u001b[0;2m] \u001b[0;2mNFC…RENTIALABUNDANCE:\u001b[mVALIDATOR -\u001b[K\n",
      "\u001b[2m[\u001b[0;34m-        \u001b[0;2m] \u001b[0;2mNFC…NDANCE:\u001b[mCUSTOM_MATRIXFILTER -\u001b[K\n",
      "\u001b[2m[\u001b[0;34m-        \u001b[0;2m] \u001b[0;2mNFC…NTIALABUNDANCE:\u001b[mDESEQ2_NORM -\u001b[K\n",
      "\u001b[2m[\u001b[0;34m-        \u001b[0;2m] \u001b[0;2mNFC…NDANCE:\u001b[mDESEQ2_DIFFERENTIAL -\u001b[K\n",
      "\u001b[2m[\u001b[0;34m-        \u001b[0;2m] \u001b[0;2mNFC…ABUNDANCE:\u001b[mFILTER_DIFFTABLE -\u001b[K\n",
      "\u001b[2m[\u001b[0;34m-        \u001b[0;2m] \u001b[0;2mNFC…ABUNDANCE:\u001b[mPLOT_EXPLORATORY -\u001b[K\n",
      "\u001b[2m[\u001b[0;34m-        \u001b[0;2m] \u001b[0;2mNFC…BUNDANCE:\u001b[mPLOT_DIFFERENTIAL -\u001b[K\n",
      "\u001b[2m[\u001b[0;34m-        \u001b[0;2m] \u001b[0;2mNFC…TIALABUNDANCE:\u001b[mSHINYNGS_APP -\u001b[K\n",
      "\u001b[2m[\u001b[0;34m-        \u001b[0;2m] \u001b[0;2mNFC…BUNDANCE:\u001b[mRMARKDOWNNOTEBOOK -\u001b[K\n",
      "\u001b[2m[\u001b[0;34m-        \u001b[0;2m] \u001b[0;2mNFC…UNDANCE:\u001b[mMAKE_REPORT_BUNDLE -\u001b[K\n",
      "\u001b[11A\n",
      "\u001b[2mexecutor >  local (1)\u001b[m\u001b[K\n",
      "\u001b[2m[\u001b[0;34mf4/8abd92\u001b[0;2m] \u001b[0;2m\u001b[mNFC…(samplesheet_solution.csv)\u001b[2m |\u001b[m 0 of 1\u001b[K\n",
      "\u001b[2m[\u001b[0;34m-        \u001b[0;2m] \u001b[0;2mNFC…NDANCE:\u001b[mCUSTOM_MATRIXFILTER -\u001b[K\n",
      "\u001b[2m[\u001b[0;34m-        \u001b[0;2m] \u001b[0;2mNFC…NTIALABUNDANCE:\u001b[mDESEQ2_NORM -\u001b[K\n",
      "\u001b[2m[\u001b[0;34m-        \u001b[0;2m] \u001b[0;2mNFC…NDANCE:\u001b[mDESEQ2_DIFFERENTIAL -\u001b[K\n",
      "\u001b[2m[\u001b[0;34m-        \u001b[0;2m] \u001b[0;2mNFC…ABUNDANCE:\u001b[mFILTER_DIFFTABLE -\u001b[K\n",
      "\u001b[2m[\u001b[0;34m-        \u001b[0;2m] \u001b[0;2mNFC…ABUNDANCE:\u001b[mPLOT_EXPLORATORY -\u001b[K\n",
      "\u001b[2m[\u001b[0;34m-        \u001b[0;2m] \u001b[0;2mNFC…BUNDANCE:\u001b[mPLOT_DIFFERENTIAL -\u001b[K\n",
      "\u001b[2m[\u001b[0;34m-        \u001b[0;2m] \u001b[0;2mNFC…TIALABUNDANCE:\u001b[mSHINYNGS_APP -\u001b[K\n",
      "\u001b[2m[\u001b[0;34m-        \u001b[0;2m] \u001b[0;2mNFC…BUNDANCE:\u001b[mRMARKDOWNNOTEBOOK -\u001b[K\n",
      "\u001b[2m[\u001b[0;34m-        \u001b[0;2m] \u001b[0;2mNFC…UNDANCE:\u001b[mMAKE_REPORT_BUNDLE -\u001b[K\n",
      "\u001b[12A\n",
      "\u001b[2mexecutor >  local (1)\u001b[m\u001b[K\n",
      "\u001b[2m[\u001b[0;34mf4/8abd92\u001b[0;2m] \u001b[0;2m\u001b[mNFC…(samplesheet_solution.csv)\u001b[2m |\u001b[m 1 of 1\u001b[32m ✔\u001b[m\u001b[K\n",
      "\u001b[2m[\u001b[0;34m-        \u001b[0;2m] \u001b[0;2mNFC…NDANCE:\u001b[mCUSTOM_MATRIXFILTER -\u001b[K\n",
      "\u001b[2m[\u001b[0;34m-        \u001b[0;2m] \u001b[0;2mNFC…NTIALABUNDANCE:\u001b[mDESEQ2_NORM -\u001b[K\n",
      "\u001b[2m[\u001b[0;34m-        \u001b[0;2m] \u001b[0;2mNFC…NDANCE:\u001b[mDESEQ2_DIFFERENTIAL -\u001b[K\n",
      "\u001b[2m[\u001b[0;34m-        \u001b[0;2m] \u001b[0;2mNFC…ABUNDANCE:\u001b[mFILTER_DIFFTABLE -\u001b[K\n",
      "\u001b[2m[\u001b[0;34m-        \u001b[0;2m] \u001b[0;2mNFC…ABUNDANCE:\u001b[mPLOT_EXPLORATORY -\u001b[K\n",
      "\u001b[2m[\u001b[0;34m-        \u001b[0;2m] \u001b[0;2mNFC…BUNDANCE:\u001b[mPLOT_DIFFERENTIAL -\u001b[K\n",
      "\u001b[2m[\u001b[0;34m-        \u001b[0;2m] \u001b[0;2mNFC…TIALABUNDANCE:\u001b[mSHINYNGS_APP -\u001b[K\n",
      "\u001b[2m[\u001b[0;34m-        \u001b[0;2m] \u001b[0;2mNFC…BUNDANCE:\u001b[mRMARKDOWNNOTEBOOK -\u001b[K\n",
      "\u001b[2m[\u001b[0;34m-        \u001b[0;2m] \u001b[0;2mNFC…UNDANCE:\u001b[mMAKE_REPORT_BUNDLE -\u001b[K\n",
      "\u001b[12A\n",
      "\u001b[2mexecutor >  local (2)\u001b[m\u001b[K\n",
      "\u001b[2m[\u001b[0;34mf4/8abd92\u001b[0;2m] \u001b[0;2m\u001b[mNFC…(samplesheet_solution.csv)\u001b[2m |\u001b[m 1 of 1\u001b[32m ✔\u001b[m\u001b[K\n",
      "\u001b[2m[\u001b[0;34m09/c50401\u001b[0;2m] \u001b[0;2m\u001b[mNFC…_MATRIXFILTER\u001b[33;2m (\u001b[0;33m[id:study]\u001b[2m)\u001b[m\u001b[2m |\u001b[m 0 of 1\u001b[K\n",
      "\u001b[2m[\u001b[0;34m-        \u001b[0;2m] \u001b[0;2mNFC…NTIALABUNDANCE:\u001b[mDESEQ2_NORM -\u001b[K\n",
      "\u001b[2m[\u001b[0;34m-        \u001b[0;2m] \u001b[0;2mNFC…NDANCE:\u001b[mDESEQ2_DIFFERENTIAL -\u001b[K\n",
      "\u001b[2m[\u001b[0;34m-        \u001b[0;2m] \u001b[0;2mNFC…ABUNDANCE:\u001b[mFILTER_DIFFTABLE -\u001b[K\n",
      "\u001b[2m[\u001b[0;34m-        \u001b[0;2m] \u001b[0;2mNFC…ABUNDANCE:\u001b[mPLOT_EXPLORATORY -\u001b[K\n",
      "\u001b[2m[\u001b[0;34m-        \u001b[0;2m] \u001b[0;2mNFC…BUNDANCE:\u001b[mPLOT_DIFFERENTIAL -\u001b[K\n",
      "\u001b[2m[\u001b[0;34m-        \u001b[0;2m] \u001b[0;2mNFC…TIALABUNDANCE:\u001b[mSHINYNGS_APP -\u001b[K\n",
      "\u001b[2m[\u001b[0;34m-        \u001b[0;2m] \u001b[0;2mNFC…BUNDANCE:\u001b[mRMARKDOWNNOTEBOOK -\u001b[K\n",
      "\u001b[2m[\u001b[0;34m-        \u001b[0;2m] \u001b[0;2mNFC…UNDANCE:\u001b[mMAKE_REPORT_BUNDLE -\u001b[K\n",
      "\u001b[12A\n",
      "\u001b[2mexecutor >  local (5)\u001b[m\u001b[K\n",
      "\u001b[2m[\u001b[0;34mf4/8abd92\u001b[0;2m] \u001b[0;2m\u001b[mNFC…(samplesheet_solution.csv)\u001b[2m |\u001b[m 1 of 1\u001b[32m ✔\u001b[m\u001b[K\n",
      "\u001b[2m[\u001b[0;34m09/c50401\u001b[0;2m] \u001b[0;2m\u001b[mNFC…_MATRIXFILTER\u001b[33;2m (\u001b[0;33m[id:study]\u001b[2m)\u001b[m\u001b[2m |\u001b[m 1 of 1\u001b[32m ✔\u001b[m\u001b[K\n",
      "\u001b[2m[\u001b[0;34m0d/0548cc\u001b[0;2m] \u001b[0;2mNFC…arget:SNI_oxy, blocking:\u001b[m])\u001b[2m |\u001b[m 0 of 1\u001b[K\n",
      "\u001b[2m[\u001b[0;34m23/660245\u001b[0;2m] \u001b[0;2mNFC…arget:SNI_oxy, blocking:\u001b[m])\u001b[2m |\u001b[m 0 of 2\u001b[K\n",
      "\u001b[2m[\u001b[0;34m-        \u001b[0;2m] \u001b[0;2mNFC…ABUNDANCE:\u001b[mFILTER_DIFFTABLE -\u001b[K\n",
      "\u001b[2m[\u001b[0;34m-        \u001b[0;2m] \u001b[0;2mNFC…ABUNDANCE:\u001b[mPLOT_EXPLORATORY -\u001b[K\n",
      "\u001b[2m[\u001b[0;34m-        \u001b[0;2m] \u001b[0;2mNFC…BUNDANCE:\u001b[mPLOT_DIFFERENTIAL -\u001b[K\n",
      "\u001b[2m[\u001b[0;34m-        \u001b[0;2m] \u001b[0;2mNFC…TIALABUNDANCE:\u001b[mSHINYNGS_APP -\u001b[K\n",
      "\u001b[2m[\u001b[0;34m-        \u001b[0;2m] \u001b[0;2mNFC…BUNDANCE:\u001b[mRMARKDOWNNOTEBOOK -\u001b[K\n",
      "\u001b[2m[\u001b[0;34m-        \u001b[0;2m] \u001b[0;2mNFC…UNDANCE:\u001b[mMAKE_REPORT_BUNDLE -\u001b[K\n",
      "\u001b[12A\n",
      "\u001b[2mexecutor >  local (5)\u001b[m\u001b[K\n",
      "\u001b[2m[\u001b[0;34mf4/8abd92\u001b[0;2m] \u001b[0;2m\u001b[mNFC…(samplesheet_solution.csv)\u001b[2m |\u001b[m 1 of 1\u001b[32m ✔\u001b[m\u001b[K\n",
      "\u001b[2m[\u001b[0;34m09/c50401\u001b[0;2m] \u001b[0;2m\u001b[mNFC…_MATRIXFILTER\u001b[33;2m (\u001b[0;33m[id:study]\u001b[2m)\u001b[m\u001b[2m |\u001b[m 1 of 1\u001b[32m ✔\u001b[m\u001b[K\n",
      "\u001b[2m[\u001b[0;34m0d/0548cc\u001b[0;2m] \u001b[0;2mNFC…arget:SNI_oxy, blocking:\u001b[m])\u001b[2m |\u001b[m 0 of 1\u001b[32m ✔\u001b[m\u001b[K\n",
      "\u001b[2m[\u001b[0;34m23/660245\u001b[0;2m] \u001b[0;2mNFC…arget:SNI_oxy, blocking:\u001b[m])\u001b[2m |\u001b[m 0 of 2\u001b[K\n",
      "\u001b[2m[\u001b[0;34m-        \u001b[0;2m] \u001b[0;2mNFC…ABUNDANCE:\u001b[mFILTER_DIFFTABLE -\u001b[K\n",
      "\u001b[2m[\u001b[0;34m-        \u001b[0;2m] \u001b[0;2mNFC…ABUNDANCE:\u001b[mPLOT_EXPLORATORY -\u001b[K\n",
      "\u001b[2m[\u001b[0;34m-        \u001b[0;2m] \u001b[0;2mNFC…BUNDANCE:\u001b[mPLOT_DIFFERENTIAL -\u001b[K\n",
      "\u001b[2m[\u001b[0;34m-        \u001b[0;2m] \u001b[0;2mNFC…TIALABUNDANCE:\u001b[mSHINYNGS_APP -\u001b[K\n",
      "\u001b[2m[\u001b[0;34m-        \u001b[0;2m] \u001b[0;2mNFC…BUNDANCE:\u001b[mRMARKDOWNNOTEBOOK -\u001b[K\n",
      "\u001b[2m[\u001b[0;34m-        \u001b[0;2m] \u001b[0;2mNFC…UNDANCE:\u001b[mMAKE_REPORT_BUNDLE -\u001b[K\n",
      "\u001b[12A\n",
      "\u001b[2mexecutor >  local (6)\u001b[m\u001b[K\n",
      "\u001b[2m[\u001b[0;34mf4/8abd92\u001b[0;2m] \u001b[0;2m\u001b[mNFC…(samplesheet_solution.csv)\u001b[2m |\u001b[m 1 of 1\u001b[32m ✔\u001b[m\u001b[K\n",
      "\u001b[2m[\u001b[0;34m09/c50401\u001b[0;2m] \u001b[0;2m\u001b[mNFC…_MATRIXFILTER\u001b[33;2m (\u001b[0;33m[id:study]\u001b[2m)\u001b[m\u001b[2m |\u001b[m 1 of 1\u001b[32m ✔\u001b[m\u001b[K\n",
      "\u001b[2m[\u001b[0;34m0d/0548cc\u001b[0;2m] \u001b[0;2mNFC…arget:SNI_oxy, blocking:\u001b[m])\u001b[2m |\u001b[m 1 of 1\u001b[32m ✔\u001b[m\u001b[K\n",
      "\u001b[2m[\u001b[0;34m23/660245\u001b[0;2m] \u001b[0;2mNFC…arget:SNI_oxy, blocking:\u001b[m])\u001b[2m |\u001b[m 0 of 2\u001b[K\n",
      "\u001b[2m[\u001b[0;34m-        \u001b[0;2m] \u001b[0;2mNFC…ABUNDANCE:\u001b[mFILTER_DIFFTABLE -\u001b[K\n",
      "\u001b[2m[\u001b[0;34m81/0785b7\u001b[0;2m] \u001b[0;2m\u001b[mNFC…OT_EXPLORATORY\u001b[33;2m (\u001b[0;33mCondition\u001b[2m)\u001b[m\u001b[2m |\u001b[m 0 of 1\u001b[K\n",
      "\u001b[2m[\u001b[0;34m-        \u001b[0;2m] \u001b[0;2mNFC…BUNDANCE:\u001b[mPLOT_DIFFERENTIAL -\u001b[K\n",
      "\u001b[2m[\u001b[0;34m-        \u001b[0;2m] \u001b[0;2mNFC…TIALABUNDANCE:\u001b[mSHINYNGS_APP -\u001b[K\n",
      "\u001b[2m[\u001b[0;34m-        \u001b[0;2m] \u001b[0;2mNFC…BUNDANCE:\u001b[mRMARKDOWNNOTEBOOK -\u001b[K\n",
      "\u001b[2m[\u001b[0;34m-        \u001b[0;2m] \u001b[0;2mNFC…UNDANCE:\u001b[mMAKE_REPORT_BUNDLE -\u001b[K\n",
      "\u001b[12A\n",
      "\u001b[2mexecutor >  local (7)\u001b[m\u001b[K\n",
      "\u001b[2m[\u001b[0;34mf4/8abd92\u001b[0;2m] \u001b[0;2m\u001b[mNFC…(samplesheet_solution.csv)\u001b[2m |\u001b[m 1 of 1\u001b[32m ✔\u001b[m\u001b[K\n",
      "\u001b[2m[\u001b[0;34m09/c50401\u001b[0;2m] \u001b[0;2m\u001b[mNFC…_MATRIXFILTER\u001b[33;2m (\u001b[0;33m[id:study]\u001b[2m)\u001b[m\u001b[2m |\u001b[m 1 of 1\u001b[32m ✔\u001b[m\u001b[K\n",
      "\u001b[2m[\u001b[0;34m0d/0548cc\u001b[0;2m] \u001b[0;2mNFC…arget:SNI_oxy, blocking:\u001b[m])\u001b[2m |\u001b[m 1 of 1\u001b[32m ✔\u001b[m\u001b[K\n",
      "\u001b[2m[\u001b[0;34m23/660245\u001b[0;2m] \u001b[0;2mNFC…arget:SNI_oxy, blocking:\u001b[m])\u001b[2m |\u001b[m 2 of 2\u001b[32m ✔\u001b[m\u001b[K\n",
      "\u001b[2m[\u001b[0;34m41/f6f789\u001b[0;2m] \u001b[0;2mNFC…DANCE:\u001b[mFILTER_DIFFTABLE\u001b[33;2m (\u001b[0;33m1\u001b[2m)\u001b[m\u001b[2m |\u001b[m 0 of 2\u001b[K\n",
      "\u001b[2m[\u001b[0;34m81/0785b7\u001b[0;2m] \u001b[0;2m\u001b[mNFC…OT_EXPLORATORY\u001b[33;2m (\u001b[0;33mCondition\u001b[2m)\u001b[m\u001b[2m |\u001b[m 0 of 1\u001b[K\n",
      "\u001b[2m[\u001b[0;34m-        \u001b[0;2m] \u001b[0;2mNFC…BUNDANCE:\u001b[mPLOT_DIFFERENTIAL\u001b[2m |\u001b[m 0 of 2\u001b[K\n",
      "\u001b[2m[\u001b[0;34m-        \u001b[0;2m] \u001b[0;2mNFC…TIALABUNDANCE:\u001b[mSHINYNGS_APP\u001b[2m |\u001b[m 0 of 1\u001b[K\n",
      "\u001b[2m[\u001b[0;34m-        \u001b[0;2m] \u001b[0;2mNFC…BUNDANCE:\u001b[mRMARKDOWNNOTEBOOK -\u001b[K\n",
      "\u001b[2m[\u001b[0;34m-        \u001b[0;2m] \u001b[0;2mNFC…UNDANCE:\u001b[mMAKE_REPORT_BUNDLE -\u001b[K\n",
      "\u001b[12A\n",
      "\u001b[2mexecutor >  local (8)\u001b[m\u001b[K\n",
      "\u001b[2m[\u001b[0;34mf4/8abd92\u001b[0;2m] \u001b[0;2m\u001b[mNFC…(samplesheet_solution.csv)\u001b[2m |\u001b[m 1 of 1\u001b[32m ✔\u001b[m\u001b[K\n",
      "\u001b[2m[\u001b[0;34m09/c50401\u001b[0;2m] \u001b[0;2m\u001b[mNFC…_MATRIXFILTER\u001b[33;2m (\u001b[0;33m[id:study]\u001b[2m)\u001b[m\u001b[2m |\u001b[m 1 of 1\u001b[32m ✔\u001b[m\u001b[K\n",
      "\u001b[2m[\u001b[0;34m0d/0548cc\u001b[0;2m] \u001b[0;2mNFC…arget:SNI_oxy, blocking:\u001b[m])\u001b[2m |\u001b[m 1 of 1\u001b[32m ✔\u001b[m\u001b[K\n",
      "\u001b[2m[\u001b[0;34m23/660245\u001b[0;2m] \u001b[0;2mNFC…arget:SNI_oxy, blocking:\u001b[m])\u001b[2m |\u001b[m 2 of 2\u001b[32m ✔\u001b[m\u001b[K\n",
      "\u001b[2m[\u001b[0;34m9d/e77295\u001b[0;2m] \u001b[0;2mNFC…DANCE:\u001b[mFILTER_DIFFTABLE\u001b[33;2m (\u001b[0;33m2\u001b[2m)\u001b[m\u001b[2m |\u001b[m 0 of 2\u001b[K\n",
      "\u001b[2m[\u001b[0;34m81/0785b7\u001b[0;2m] \u001b[0;2m\u001b[mNFC…OT_EXPLORATORY\u001b[33;2m (\u001b[0;33mCondition\u001b[2m)\u001b[m\u001b[2m |\u001b[m 0 of 1\u001b[K\n",
      "\u001b[2m[\u001b[0;34m-        \u001b[0;2m] \u001b[0;2mNFC…BUNDANCE:\u001b[mPLOT_DIFFERENTIAL\u001b[2m |\u001b[m 0 of 2\u001b[K\n",
      "\u001b[2m[\u001b[0;34m-        \u001b[0;2m] \u001b[0;2mNFC…TIALABUNDANCE:\u001b[mSHINYNGS_APP\u001b[2m |\u001b[m 0 of 1\u001b[K\n",
      "\u001b[2m[\u001b[0;34m-        \u001b[0;2m] \u001b[0;2mNFC…BUNDANCE:\u001b[mRMARKDOWNNOTEBOOK -\u001b[K\n",
      "\u001b[2m[\u001b[0;34m-        \u001b[0;2m] \u001b[0;2mNFC…UNDANCE:\u001b[mMAKE_REPORT_BUNDLE -\u001b[K\n",
      "\u001b[12A\n",
      "\u001b[2mexecutor >  local (8)\u001b[m\u001b[K\n",
      "\u001b[2m[\u001b[0;34mf4/8abd92\u001b[0;2m] \u001b[0;2m\u001b[mNFC…(samplesheet_solution.csv)\u001b[2m |\u001b[m 1 of 1\u001b[32m ✔\u001b[m\u001b[K\n",
      "\u001b[2m[\u001b[0;34m09/c50401\u001b[0;2m] \u001b[0;2m\u001b[mNFC…_MATRIXFILTER\u001b[33;2m (\u001b[0;33m[id:study]\u001b[2m)\u001b[m\u001b[2m |\u001b[m 1 of 1\u001b[32m ✔\u001b[m\u001b[K\n",
      "\u001b[2m[\u001b[0;34m0d/0548cc\u001b[0;2m] \u001b[0;2mNFC…arget:SNI_oxy, blocking:\u001b[m])\u001b[2m |\u001b[m 1 of 1\u001b[32m ✔\u001b[m\u001b[K\n",
      "\u001b[2m[\u001b[0;34m23/660245\u001b[0;2m] \u001b[0;2mNFC…arget:SNI_oxy, blocking:\u001b[m])\u001b[2m |\u001b[m 2 of 2\u001b[32m ✔\u001b[m\u001b[K\n",
      "\u001b[2m[\u001b[0;34m41/f6f789\u001b[0;2m] \u001b[0;2mNFC…DANCE:\u001b[mFILTER_DIFFTABLE\u001b[33;2m (\u001b[0;33m1\u001b[2m)\u001b[m\u001b[2m |\u001b[m 1 of 2\u001b[K\n",
      "\u001b[2m[\u001b[0;34m81/0785b7\u001b[0;2m] \u001b[0;2m\u001b[mNFC…OT_EXPLORATORY\u001b[33;2m (\u001b[0;33mCondition\u001b[2m)\u001b[m\u001b[2m |\u001b[m 0 of 1\u001b[K\n",
      "\u001b[2m[\u001b[0;34m-        \u001b[0;2m] \u001b[0;2mNFC…BUNDANCE:\u001b[mPLOT_DIFFERENTIAL\u001b[2m |\u001b[m 0 of 2\u001b[K\n",
      "\u001b[2m[\u001b[0;34m-        \u001b[0;2m] \u001b[0;2mNFC…TIALABUNDANCE:\u001b[mSHINYNGS_APP\u001b[2m |\u001b[m 0 of 1\u001b[K\n",
      "\u001b[2m[\u001b[0;34m-        \u001b[0;2m] \u001b[0;2mNFC…BUNDANCE:\u001b[mRMARKDOWNNOTEBOOK -\u001b[K\n",
      "\u001b[2m[\u001b[0;34m-        \u001b[0;2m] \u001b[0;2mNFC…UNDANCE:\u001b[mMAKE_REPORT_BUNDLE -\u001b[K\n",
      "\u001b[12A\n",
      "\u001b[2mexecutor >  local (9)\u001b[m\u001b[K\n",
      "\u001b[2m[\u001b[0;34mf4/8abd92\u001b[0;2m] \u001b[0;2m\u001b[mNFC…(samplesheet_solution.csv)\u001b[2m |\u001b[m 1 of 1\u001b[32m ✔\u001b[m\u001b[K\n",
      "\u001b[2m[\u001b[0;34m09/c50401\u001b[0;2m] \u001b[0;2m\u001b[mNFC…_MATRIXFILTER\u001b[33;2m (\u001b[0;33m[id:study]\u001b[2m)\u001b[m\u001b[2m |\u001b[m 1 of 1\u001b[32m ✔\u001b[m\u001b[K\n",
      "\u001b[2m[\u001b[0;34m0d/0548cc\u001b[0;2m] \u001b[0;2mNFC…arget:SNI_oxy, blocking:\u001b[m])\u001b[2m |\u001b[m 1 of 1\u001b[32m ✔\u001b[m\u001b[K\n",
      "\u001b[2m[\u001b[0;34m23/660245\u001b[0;2m] \u001b[0;2mNFC…arget:SNI_oxy, blocking:\u001b[m])\u001b[2m |\u001b[m 2 of 2\u001b[32m ✔\u001b[m\u001b[K\n",
      "\u001b[2m[\u001b[0;34m9d/e77295\u001b[0;2m] \u001b[0;2mNFC…DANCE:\u001b[mFILTER_DIFFTABLE\u001b[33;2m (\u001b[0;33m2\u001b[2m)\u001b[m\u001b[2m |\u001b[m 2 of 2\u001b[32m ✔\u001b[m\u001b[K\n",
      "\u001b[2m[\u001b[0;34m81/0785b7\u001b[0;2m] \u001b[0;2m\u001b[mNFC…OT_EXPLORATORY\u001b[33;2m (\u001b[0;33mCondition\u001b[2m)\u001b[m\u001b[2m |\u001b[m 0 of 1\u001b[K\n",
      "\u001b[2m[\u001b[0;34m62/6c1435\u001b[0;2m] \u001b[0;2m\u001b[mNFC…tion_control_treated_test)\u001b[2m |\u001b[m 0 of 2\u001b[K\n",
      "\u001b[2m[\u001b[0;34m-        \u001b[0;2m] \u001b[0;2mNFC…TIALABUNDANCE:\u001b[mSHINYNGS_APP\u001b[2m |\u001b[m 0 of 1\u001b[K\n",
      "\u001b[2m[\u001b[0;34m-        \u001b[0;2m] \u001b[0;2mNFC…BUNDANCE:\u001b[mRMARKDOWNNOTEBOOK -\u001b[K\n",
      "\u001b[2m[\u001b[0;34m-        \u001b[0;2m] \u001b[0;2mNFC…UNDANCE:\u001b[mMAKE_REPORT_BUNDLE -\u001b[K\n",
      "\u001b[12A\n",
      "\u001b[2mexecutor >  local (10)\u001b[m\u001b[K\n",
      "\u001b[2m[\u001b[0;34mf4/8abd92\u001b[0;2m] \u001b[0;2m\u001b[mNFC…(samplesheet_solution.csv)\u001b[2m |\u001b[m 1 of 1\u001b[32m ✔\u001b[m\u001b[K\n",
      "\u001b[2m[\u001b[0;34m09/c50401\u001b[0;2m] \u001b[0;2m\u001b[mNFC…_MATRIXFILTER\u001b[33;2m (\u001b[0;33m[id:study]\u001b[2m)\u001b[m\u001b[2m |\u001b[m 1 of 1\u001b[32m ✔\u001b[m\u001b[K\n",
      "\u001b[2m[\u001b[0;34m0d/0548cc\u001b[0;2m] \u001b[0;2mNFC…arget:SNI_oxy, blocking:\u001b[m])\u001b[2m |\u001b[m 1 of 1\u001b[32m ✔\u001b[m\u001b[K\n",
      "\u001b[2m[\u001b[0;34m23/660245\u001b[0;2m] \u001b[0;2mNFC…arget:SNI_oxy, blocking:\u001b[m])\u001b[2m |\u001b[m 2 of 2\u001b[32m ✔\u001b[m\u001b[K\n",
      "\u001b[2m[\u001b[0;34m9d/e77295\u001b[0;2m] \u001b[0;2mNFC…DANCE:\u001b[mFILTER_DIFFTABLE\u001b[33;2m (\u001b[0;33m2\u001b[2m)\u001b[m\u001b[2m |\u001b[m 2 of 2\u001b[32m ✔\u001b[m\u001b[K\n",
      "\u001b[2m[\u001b[0;34m81/0785b7\u001b[0;2m] \u001b[0;2m\u001b[mNFC…OT_EXPLORATORY\u001b[33;2m (\u001b[0;33mCondition\u001b[2m)\u001b[m\u001b[2m |\u001b[m 0 of 1\u001b[K\n",
      "\u001b[2m[\u001b[0;34m62/6c1435\u001b[0;2m] \u001b[0;2m\u001b[mNFC…tion_control_treated_test)\u001b[2m |\u001b[m 1 of 2\u001b[K\n",
      "\u001b[2m[\u001b[0;34m-        \u001b[0;2m] \u001b[0;2mNFC…TIALABUNDANCE:\u001b[mSHINYNGS_APP\u001b[2m |\u001b[m 0 of 1\u001b[K\n",
      "\u001b[2m[\u001b[0;34m-        \u001b[0;2m] \u001b[0;2mNFC…BUNDANCE:\u001b[mRMARKDOWNNOTEBOOK -\u001b[K\n",
      "\u001b[2m[\u001b[0;34m-        \u001b[0;2m] \u001b[0;2mNFC…UNDANCE:\u001b[mMAKE_REPORT_BUNDLE -\u001b[K\n",
      "\u001b[12A\n",
      "\u001b[2mexecutor >  local (11)\u001b[m\u001b[K\n",
      "\u001b[2m[\u001b[0;34mf4/8abd92\u001b[0;2m] \u001b[0;2m\u001b[mNFC…(samplesheet_solution.csv)\u001b[2m |\u001b[m 1 of 1\u001b[32m ✔\u001b[m\u001b[K\n",
      "\u001b[2m[\u001b[0;34m09/c50401\u001b[0;2m] \u001b[0;2m\u001b[mNFC…_MATRIXFILTER\u001b[33;2m (\u001b[0;33m[id:study]\u001b[2m)\u001b[m\u001b[2m |\u001b[m 1 of 1\u001b[32m ✔\u001b[m\u001b[K\n",
      "\u001b[2m[\u001b[0;34m0d/0548cc\u001b[0;2m] \u001b[0;2mNFC…arget:SNI_oxy, blocking:\u001b[m])\u001b[2m |\u001b[m 1 of 1\u001b[32m ✔\u001b[m\u001b[K\n",
      "\u001b[2m[\u001b[0;34m23/660245\u001b[0;2m] \u001b[0;2mNFC…arget:SNI_oxy, blocking:\u001b[m])\u001b[2m |\u001b[m 2 of 2\u001b[32m ✔\u001b[m\u001b[K\n",
      "\u001b[2m[\u001b[0;34m9d/e77295\u001b[0;2m] \u001b[0;2mNFC…DANCE:\u001b[mFILTER_DIFFTABLE\u001b[33;2m (\u001b[0;33m2\u001b[2m)\u001b[m\u001b[2m |\u001b[m 2 of 2\u001b[32m ✔\u001b[m\u001b[K\n",
      "\u001b[2m[\u001b[0;34m81/0785b7\u001b[0;2m] \u001b[0;2m\u001b[mNFC…OT_EXPLORATORY\u001b[33;2m (\u001b[0;33mCondition\u001b[2m)\u001b[m\u001b[2m |\u001b[m 1 of 1\u001b[32m ✔\u001b[m\u001b[K\n",
      "\u001b[2m[\u001b[0;34m62/6c1435\u001b[0;2m] \u001b[0;2m\u001b[mNFC…tion_control_treated_test)\u001b[2m |\u001b[m 1 of 2\u001b[K\n",
      "\u001b[2m[\u001b[0;34mc8/797537\u001b[0;2m] \u001b[0;2mNFC…DANCE:\u001b[mSHINYNGS_APP\u001b[33;2m (\u001b[0;33mstudy\u001b[2m)\u001b[m\u001b[2m |\u001b[m 0 of 1\u001b[K\n",
      "\u001b[2m[\u001b[0;34m-        \u001b[0;2m] \u001b[0;2mNFC…BUNDANCE:\u001b[mRMARKDOWNNOTEBOOK -\u001b[K\n",
      "\u001b[2m[\u001b[0;34m-        \u001b[0;2m] \u001b[0;2mNFC…UNDANCE:\u001b[mMAKE_REPORT_BUNDLE -\u001b[K\n",
      "\u001b[12A\n",
      "\u001b[2mexecutor >  local (11)\u001b[m\u001b[K\n",
      "\u001b[2m[\u001b[0;34mf4/8abd92\u001b[0;2m] \u001b[0;2m\u001b[mNFC…(samplesheet_solution.csv)\u001b[2m |\u001b[m 1 of 1\u001b[32m ✔\u001b[m\u001b[K\n",
      "\u001b[2m[\u001b[0;34m09/c50401\u001b[0;2m] \u001b[0;2m\u001b[mNFC…_MATRIXFILTER\u001b[33;2m (\u001b[0;33m[id:study]\u001b[2m)\u001b[m\u001b[2m |\u001b[m 1 of 1\u001b[32m ✔\u001b[m\u001b[K\n",
      "\u001b[2m[\u001b[0;34m0d/0548cc\u001b[0;2m] \u001b[0;2mNFC…arget:SNI_oxy, blocking:\u001b[m])\u001b[2m |\u001b[m 1 of 1\u001b[32m ✔\u001b[m\u001b[K\n",
      "\u001b[2m[\u001b[0;34m23/660245\u001b[0;2m] \u001b[0;2mNFC…arget:SNI_oxy, blocking:\u001b[m])\u001b[2m |\u001b[m 2 of 2\u001b[32m ✔\u001b[m\u001b[K\n",
      "\u001b[2m[\u001b[0;34m9d/e77295\u001b[0;2m] \u001b[0;2mNFC…DANCE:\u001b[mFILTER_DIFFTABLE\u001b[33;2m (\u001b[0;33m2\u001b[2m)\u001b[m\u001b[2m |\u001b[m 2 of 2\u001b[32m ✔\u001b[m\u001b[K\n",
      "\u001b[2m[\u001b[0;34m81/0785b7\u001b[0;2m] \u001b[0;2m\u001b[mNFC…OT_EXPLORATORY\u001b[33;2m (\u001b[0;33mCondition\u001b[2m)\u001b[m\u001b[2m |\u001b[m 1 of 1\u001b[32m ✔\u001b[m\u001b[K\n",
      "\u001b[2m[\u001b[0;34m62/6c1435\u001b[0;2m] \u001b[0;2m\u001b[mNFC…tion_control_treated_test)\u001b[2m |\u001b[m 1 of 2\u001b[K\n",
      "\u001b[2m[\u001b[0;34mc8/797537\u001b[0;2m] \u001b[0;2mNFC…DANCE:\u001b[mSHINYNGS_APP\u001b[33;2m (\u001b[0;33mstudy\u001b[2m)\u001b[m\u001b[2m |\u001b[m 0 of 1\u001b[K\n",
      "\u001b[2m[\u001b[0;34m-        \u001b[0;2m] \u001b[0;2mNFC…BUNDANCE:\u001b[mRMARKDOWNNOTEBOOK -\u001b[K\n",
      "\u001b[2m[\u001b[0;34m-        \u001b[0;2m] \u001b[0;2mNFC…UNDANCE:\u001b[mMAKE_REPORT_BUNDLE -\u001b[K\n",
      "\u001b[12A\n",
      "\u001b[2mexecutor >  local (12)\u001b[m\u001b[K\n",
      "\u001b[2m[\u001b[0;34mf4/8abd92\u001b[0;2m] \u001b[0;2m\u001b[mNFC…(samplesheet_solution.csv)\u001b[2m |\u001b[m 1 of 1\u001b[32m ✔\u001b[m\u001b[K\n",
      "\u001b[2m[\u001b[0;34m09/c50401\u001b[0;2m] \u001b[0;2m\u001b[mNFC…_MATRIXFILTER\u001b[33;2m (\u001b[0;33m[id:study]\u001b[2m)\u001b[m\u001b[2m |\u001b[m 1 of 1\u001b[32m ✔\u001b[m\u001b[K\n",
      "\u001b[2m[\u001b[0;34m0d/0548cc\u001b[0;2m] \u001b[0;2mNFC…arget:SNI_oxy, blocking:\u001b[m])\u001b[2m |\u001b[m 1 of 1\u001b[32m ✔\u001b[m\u001b[K\n",
      "\u001b[2m[\u001b[0;34m23/660245\u001b[0;2m] \u001b[0;2mNFC…arget:SNI_oxy, blocking:\u001b[m])\u001b[2m |\u001b[m 2 of 2\u001b[32m ✔\u001b[m\u001b[K\n",
      "\u001b[2m[\u001b[0;34m9d/e77295\u001b[0;2m] \u001b[0;2mNFC…DANCE:\u001b[mFILTER_DIFFTABLE\u001b[33;2m (\u001b[0;33m2\u001b[2m)\u001b[m\u001b[2m |\u001b[m 2 of 2\u001b[32m ✔\u001b[m\u001b[K\n",
      "\u001b[2m[\u001b[0;34m81/0785b7\u001b[0;2m] \u001b[0;2m\u001b[mNFC…OT_EXPLORATORY\u001b[33;2m (\u001b[0;33mCondition\u001b[2m)\u001b[m\u001b[2m |\u001b[m 1 of 1\u001b[32m ✔\u001b[m\u001b[K\n",
      "\u001b[2m[\u001b[0;34m67/d7df0a\u001b[0;2m] \u001b[0;2m\u001b[mNFC…condition_control_treated)\u001b[2m |\u001b[m 2 of 2\u001b[32m ✔\u001b[m\u001b[K\n",
      "\u001b[2m[\u001b[0;34mc8/797537\u001b[0;2m] \u001b[0;2mNFC…DANCE:\u001b[mSHINYNGS_APP\u001b[33;2m (\u001b[0;33mstudy\u001b[2m)\u001b[m\u001b[2m |\u001b[m 0 of 1\u001b[K\n",
      "\u001b[2m[\u001b[0;34mb3/2eb2f5\u001b[0;2m] \u001b[0;2mNFC…:\u001b[mRMARKDOWNNOTEBOOK\u001b[33;2m (\u001b[0;33mstudy\u001b[2m)\u001b[m\u001b[2m |\u001b[m 0 of 1\u001b[K\n",
      "\u001b[2m[\u001b[0;34m-        \u001b[0;2m] \u001b[0;2mNFC…UNDANCE:\u001b[mMAKE_REPORT_BUNDLE -\u001b[K\n",
      "\u001b[12A\n",
      "\u001b[2mexecutor >  local (12)\u001b[m\u001b[K\n",
      "\u001b[2m[\u001b[0;34mf4/8abd92\u001b[0;2m] \u001b[0;2m\u001b[mNFC…(samplesheet_solution.csv)\u001b[2m |\u001b[m 1 of 1\u001b[32m ✔\u001b[m\u001b[K\n",
      "\u001b[2m[\u001b[0;34m09/c50401\u001b[0;2m] \u001b[0;2m\u001b[mNFC…_MATRIXFILTER\u001b[33;2m (\u001b[0;33m[id:study]\u001b[2m)\u001b[m\u001b[2m |\u001b[m 1 of 1\u001b[32m ✔\u001b[m\u001b[K\n",
      "\u001b[2m[\u001b[0;34m0d/0548cc\u001b[0;2m] \u001b[0;2mNFC…arget:SNI_oxy, blocking:\u001b[m])\u001b[2m |\u001b[m 1 of 1\u001b[32m ✔\u001b[m\u001b[K\n",
      "\u001b[2m[\u001b[0;34m23/660245\u001b[0;2m] \u001b[0;2mNFC…arget:SNI_oxy, blocking:\u001b[m])\u001b[2m |\u001b[m 2 of 2\u001b[32m ✔\u001b[m\u001b[K\n",
      "\u001b[2m[\u001b[0;34m9d/e77295\u001b[0;2m] \u001b[0;2mNFC…DANCE:\u001b[mFILTER_DIFFTABLE\u001b[33;2m (\u001b[0;33m2\u001b[2m)\u001b[m\u001b[2m |\u001b[m 2 of 2\u001b[32m ✔\u001b[m\u001b[K\n",
      "\u001b[2m[\u001b[0;34m81/0785b7\u001b[0;2m] \u001b[0;2m\u001b[mNFC…OT_EXPLORATORY\u001b[33;2m (\u001b[0;33mCondition\u001b[2m)\u001b[m\u001b[2m |\u001b[m 1 of 1\u001b[32m ✔\u001b[m\u001b[K\n",
      "\u001b[2m[\u001b[0;34m67/d7df0a\u001b[0;2m] \u001b[0;2m\u001b[mNFC…condition_control_treated)\u001b[2m |\u001b[m 2 of 2\u001b[32m ✔\u001b[m\u001b[K\n",
      "\u001b[2m[\u001b[0;34mc8/797537\u001b[0;2m] \u001b[0;2mNFC…DANCE:\u001b[mSHINYNGS_APP\u001b[33;2m (\u001b[0;33mstudy\u001b[2m)\u001b[m\u001b[2m |\u001b[m 1 of 1\u001b[32m ✔\u001b[m\u001b[K\n",
      "\u001b[2m[\u001b[0;34mb3/2eb2f5\u001b[0;2m] \u001b[0;2mNFC…:\u001b[mRMARKDOWNNOTEBOOK\u001b[33;2m (\u001b[0;33mstudy\u001b[2m)\u001b[m\u001b[2m |\u001b[m 0 of 1\u001b[K\n",
      "\u001b[2m[\u001b[0;34m-        \u001b[0;2m] \u001b[0;2mNFC…UNDANCE:\u001b[mMAKE_REPORT_BUNDLE -\u001b[K\n",
      "\u001b[12A\n",
      "\u001b[2mexecutor >  local (13)\u001b[m\u001b[K\n",
      "\u001b[2m[\u001b[0;34mf4/8abd92\u001b[0;2m] \u001b[0;2m\u001b[mNFC…(samplesheet_solution.csv)\u001b[2m |\u001b[m 1 of 1\u001b[32m ✔\u001b[m\u001b[K\n",
      "\u001b[2m[\u001b[0;34m09/c50401\u001b[0;2m] \u001b[0;2m\u001b[mNFC…_MATRIXFILTER\u001b[33;2m (\u001b[0;33m[id:study]\u001b[2m)\u001b[m\u001b[2m |\u001b[m 1 of 1\u001b[32m ✔\u001b[m\u001b[K\n",
      "\u001b[2m[\u001b[0;34m0d/0548cc\u001b[0;2m] \u001b[0;2mNFC…arget:SNI_oxy, blocking:\u001b[m])\u001b[2m |\u001b[m 1 of 1\u001b[32m ✔\u001b[m\u001b[K\n",
      "\u001b[2m[\u001b[0;34m23/660245\u001b[0;2m] \u001b[0;2mNFC…arget:SNI_oxy, blocking:\u001b[m])\u001b[2m |\u001b[m 2 of 2\u001b[32m ✔\u001b[m\u001b[K\n",
      "\u001b[2m[\u001b[0;34m9d/e77295\u001b[0;2m] \u001b[0;2mNFC…DANCE:\u001b[mFILTER_DIFFTABLE\u001b[33;2m (\u001b[0;33m2\u001b[2m)\u001b[m\u001b[2m |\u001b[m 2 of 2\u001b[32m ✔\u001b[m\u001b[K\n",
      "\u001b[2m[\u001b[0;34m81/0785b7\u001b[0;2m] \u001b[0;2m\u001b[mNFC…OT_EXPLORATORY\u001b[33;2m (\u001b[0;33mCondition\u001b[2m)\u001b[m\u001b[2m |\u001b[m 1 of 1\u001b[32m ✔\u001b[m\u001b[K\n",
      "\u001b[2m[\u001b[0;34m67/d7df0a\u001b[0;2m] \u001b[0;2m\u001b[mNFC…condition_control_treated)\u001b[2m |\u001b[m 2 of 2\u001b[32m ✔\u001b[m\u001b[K\n",
      "\u001b[2m[\u001b[0;34mc8/797537\u001b[0;2m] \u001b[0;2mNFC…DANCE:\u001b[mSHINYNGS_APP\u001b[33;2m (\u001b[0;33mstudy\u001b[2m)\u001b[m\u001b[2m |\u001b[m 1 of 1\u001b[32m ✔\u001b[m\u001b[K\n",
      "\u001b[2m[\u001b[0;34mb3/2eb2f5\u001b[0;2m] \u001b[0;2mNFC…:\u001b[mRMARKDOWNNOTEBOOK\u001b[33;2m (\u001b[0;33mstudy\u001b[2m)\u001b[m\u001b[2m |\u001b[m 1 of 1\u001b[32m ✔\u001b[m\u001b[K\n",
      "\u001b[2m[\u001b[0;34m11/b38395\u001b[0;2m] \u001b[0;2m\u001b[mNFC…MAKE_REPORT_BUNDLE\u001b[33;2m (\u001b[0;33mstudy\u001b[2m)\u001b[m\u001b[2m |\u001b[m 0 of 1\u001b[K\n",
      "\u001b[12A\n",
      "\u001b[2mexecutor >  local (13)\u001b[m\u001b[K\n",
      "\u001b[2m[\u001b[0;34mf4/8abd92\u001b[0;2m] \u001b[0;2m\u001b[mNFC…(samplesheet_solution.csv)\u001b[2m |\u001b[m 1 of 1\u001b[32m ✔\u001b[m\u001b[K\n",
      "\u001b[2m[\u001b[0;34m09/c50401\u001b[0;2m] \u001b[0;2m\u001b[mNFC…_MATRIXFILTER\u001b[33;2m (\u001b[0;33m[id:study]\u001b[2m)\u001b[m\u001b[2m |\u001b[m 1 of 1\u001b[32m ✔\u001b[m\u001b[K\n",
      "\u001b[2m[\u001b[0;34m0d/0548cc\u001b[0;2m] \u001b[0;2mNFC…arget:SNI_oxy, blocking:\u001b[m])\u001b[2m |\u001b[m 1 of 1\u001b[32m ✔\u001b[m\u001b[K\n",
      "\u001b[2m[\u001b[0;34m23/660245\u001b[0;2m] \u001b[0;2mNFC…arget:SNI_oxy, blocking:\u001b[m])\u001b[2m |\u001b[m 2 of 2\u001b[32m ✔\u001b[m\u001b[K\n",
      "\u001b[2m[\u001b[0;34m9d/e77295\u001b[0;2m] \u001b[0;2mNFC…DANCE:\u001b[mFILTER_DIFFTABLE\u001b[33;2m (\u001b[0;33m2\u001b[2m)\u001b[m\u001b[2m |\u001b[m 2 of 2\u001b[32m ✔\u001b[m\u001b[K\n",
      "\u001b[2m[\u001b[0;34m81/0785b7\u001b[0;2m] \u001b[0;2m\u001b[mNFC…OT_EXPLORATORY\u001b[33;2m (\u001b[0;33mCondition\u001b[2m)\u001b[m\u001b[2m |\u001b[m 1 of 1\u001b[32m ✔\u001b[m\u001b[K\n",
      "\u001b[2m[\u001b[0;34m67/d7df0a\u001b[0;2m] \u001b[0;2m\u001b[mNFC…condition_control_treated)\u001b[2m |\u001b[m 2 of 2\u001b[32m ✔\u001b[m\u001b[K\n",
      "\u001b[2m[\u001b[0;34mc8/797537\u001b[0;2m] \u001b[0;2mNFC…DANCE:\u001b[mSHINYNGS_APP\u001b[33;2m (\u001b[0;33mstudy\u001b[2m)\u001b[m\u001b[2m |\u001b[m 1 of 1\u001b[32m ✔\u001b[m\u001b[K\n",
      "\u001b[2m[\u001b[0;34mb3/2eb2f5\u001b[0;2m] \u001b[0;2mNFC…:\u001b[mRMARKDOWNNOTEBOOK\u001b[33;2m (\u001b[0;33mstudy\u001b[2m)\u001b[m\u001b[2m |\u001b[m 1 of 1\u001b[32m ✔\u001b[m\u001b[K\n",
      "\u001b[2m[\u001b[0;34m11/b38395\u001b[0;2m] \u001b[0;2m\u001b[mNFC…MAKE_REPORT_BUNDLE\u001b[33;2m (\u001b[0;33mstudy\u001b[2m)\u001b[m\u001b[2m |\u001b[m 1 of 1\u001b[32m ✔\u001b[m\u001b[K\n",
      "\u001b[12A\n",
      "\u001b[2mexecutor >  local (13)\u001b[m\u001b[K\n",
      "\u001b[2m[\u001b[0;34mf4/8abd92\u001b[0;2m] \u001b[0;2m\u001b[mNFC…(samplesheet_solution.csv)\u001b[2m |\u001b[m 1 of 1\u001b[32m ✔\u001b[m\u001b[K\n",
      "\u001b[2m[\u001b[0;34m09/c50401\u001b[0;2m] \u001b[0;2m\u001b[mNFC…_MATRIXFILTER\u001b[33;2m (\u001b[0;33m[id:study]\u001b[2m)\u001b[m\u001b[2m |\u001b[m 1 of 1\u001b[32m ✔\u001b[m\u001b[K\n",
      "\u001b[2m[\u001b[0;34m0d/0548cc\u001b[0;2m] \u001b[0;2mNFC…arget:SNI_oxy, blocking:\u001b[m])\u001b[2m |\u001b[m 1 of 1\u001b[32m ✔\u001b[m\u001b[K\n",
      "\u001b[2m[\u001b[0;34m23/660245\u001b[0;2m] \u001b[0;2mNFC…arget:SNI_oxy, blocking:\u001b[m])\u001b[2m |\u001b[m 2 of 2\u001b[32m ✔\u001b[m\u001b[K\n",
      "\u001b[2m[\u001b[0;34m9d/e77295\u001b[0;2m] \u001b[0;2mNFC…DANCE:\u001b[mFILTER_DIFFTABLE\u001b[33;2m (\u001b[0;33m2\u001b[2m)\u001b[m\u001b[2m |\u001b[m 2 of 2\u001b[32m ✔\u001b[m\u001b[K\n",
      "\u001b[2m[\u001b[0;34m81/0785b7\u001b[0;2m] \u001b[0;2m\u001b[mNFC…OT_EXPLORATORY\u001b[33;2m (\u001b[0;33mCondition\u001b[2m)\u001b[m\u001b[2m |\u001b[m 1 of 1\u001b[32m ✔\u001b[m\u001b[K\n",
      "\u001b[2m[\u001b[0;34m67/d7df0a\u001b[0;2m] \u001b[0;2m\u001b[mNFC…condition_control_treated)\u001b[2m |\u001b[m 2 of 2\u001b[32m ✔\u001b[m\u001b[K\n",
      "\u001b[2m[\u001b[0;34mc8/797537\u001b[0;2m] \u001b[0;2mNFC…DANCE:\u001b[mSHINYNGS_APP\u001b[33;2m (\u001b[0;33mstudy\u001b[2m)\u001b[m\u001b[2m |\u001b[m 1 of 1\u001b[32m ✔\u001b[m\u001b[K\n",
      "\u001b[2m[\u001b[0;34mb3/2eb2f5\u001b[0;2m] \u001b[0;2mNFC…:\u001b[mRMARKDOWNNOTEBOOK\u001b[33;2m (\u001b[0;33mstudy\u001b[2m)\u001b[m\u001b[2m |\u001b[m 1 of 1\u001b[32m ✔\u001b[m\u001b[K\n",
      "\u001b[2m[\u001b[0;34m11/b38395\u001b[0;2m] \u001b[0;2m\u001b[mNFC…MAKE_REPORT_BUNDLE\u001b[33;2m (\u001b[0;33mstudy\u001b[2m)\u001b[m\u001b[2m |\u001b[m 1 of 1\u001b[32m ✔\u001b[m\u001b[K\n",
      "\u001b[32;1mCompleted at: 18-Oct-2025 16:47:54\n",
      "Duration    : 1m 19s\n",
      "CPU hours   : (a few seconds)\n",
      "Succeeded   : 13\n",
      "\u001b[22;39m\u001b[K\n",
      "\n"
     ]
    }
   ],
   "source": [
    " !nextflow run nf-core/differentialabundance \\\n",
    "     --input data/samplesheet_solution.csv \\\n",
    "     --contrasts data/contrasts.csv \\\n",
    "     --matrix data/salmon.merged.gene_counts.tsv \\\n",
    "     --outdir differentialabundance_out  \\\n",
    "     -profile rnaseq,docker \\\n",
    "     -r 1.5.0"
   ]
  },
  {
   "cell_type": "markdown",
   "metadata": {},
   "source": [
    "Explain all the parameters you set and why you set them in this way. If you used or created additional files as input, explain what they are used for."
   ]
  },
  {
   "cell_type": "markdown",
   "metadata": {},
   "source": [
    "--input data/samplesheet_solution.csv: the samplesheet specifying which samples to look at \n",
    "--contrasts data/contrasts.csv: Specifies which conditions to compare\n",
    "--matrix data/salmon.merged.gene_counts.tsv: Results from rnaseq, detailing transcription levels per gene\n",
    "--outdir differentialabundance_out: Output directory\n",
    "-profile rnaseq,docker: Profile with which to run the pipeline\n",
    "-r 1.5.0: Version of the pipeline\n"
   ]
  },
  {
   "cell_type": "markdown",
   "metadata": {},
   "source": [
    "What were the outputs of the pipeline?"
   ]
  },
  {
   "cell_type": "markdown",
   "metadata": {},
   "source": []
  },
  {
   "cell_type": "markdown",
   "metadata": {},
   "source": [
    "Plots, a shinyngs_app and a html report. Also, pipeline info is collected."
   ]
  },
  {
   "cell_type": "markdown",
   "metadata": {},
   "source": [
    "Would you exclude any samples? If yes, which and why?"
   ]
  },
  {
   "cell_type": "markdown",
   "metadata": {},
   "source": [
    "If any, it would be SNI_Sal_4 and SNI_Sal_2. They appear to be outliers in the PCA (image below) form their own separate cluster in hierachical clustering (html report), even though outlier detection (html report) does not mark them as outliers. "
   ]
  },
  {
   "cell_type": "code",
   "execution_count": 5,
   "metadata": {},
   "outputs": [
    {
     "data": {
      "image/png": "[encoded data removed]",
      "text/plain": [
       "<IPython.core.display.Image object>"
      ]
     },
     "execution_count": 5,
     "metadata": {},
     "output_type": "execute_result"
    }
   ],
   "source": [
    "from IPython.display import Image\n",
    "Image(\"./differentialabundance_out/plots/exploratory/Condition/png/pca2d.png\")"
   ]
  },
  {
   "cell_type": "markdown",
   "metadata": {},
   "source": [
    "How many genes were differentially expressed in each contrast? Does this confirm what the paper mentions?"
   ]
  },
  {
   "cell_type": "markdown",
   "metadata": {},
   "source": [
    "SNI_Oxy vs SNI_Sal: 18\n",
    "Sham_oxy vs Sham_sal: 7\n",
    "\n",
    "The paper mentions a larger number of differentially expressed genes (see figure 3, b,e,h)"
   ]
  },
  {
   "cell_type": "markdown",
   "metadata": {},
   "source": [
    "The paper mentions differentially expressed genes in three brain regions : the NAc, mPFC and VTA. Briefly explain what these 3 regions are."
   ]
  },
  {
   "cell_type": "markdown",
   "metadata": {},
   "source": [
    "NAc: Nucleus Accumbens\n",
    "\n",
    "- Located in the forbrain, central to the brains reward circuit. It integrates input from the VTA and the prefrontal cortex\n",
    "- Is involved in motivation, learning and addiction mechanisms.\n",
    "\n",
    "mPFC: Medial Prefrontal Cortex\n",
    "\n",
    "- It is located in the frontal lobe and is involve decision-making, attention and emotional regulation.\n",
    "\n",
    "VTA: Ventral Tegmental Area\n",
    "\n",
    "- Located in the midbrain, contains dopaminergic neurons that project to the NAc and mPFC (the mesocorticolimbic dopamine pathway).\n",
    "- It is involved in motivation and learning"
   ]
  },
  {
   "cell_type": "markdown",
   "metadata": {},
   "source": [
    "Is there anyway from the paper and the material and methods for us to know which genes are included in these regions?"
   ]
  },
  {
   "cell_type": "markdown",
   "metadata": {},
   "source": [
    "The whole DEG list might be in the supplementary files"
   ]
  },
  {
   "cell_type": "markdown",
   "metadata": {},
   "source": [
    "Once you have your list of differentially expressed genes, do you think just communicating those to the biologists would be sufficient? What does the publication state?"
   ]
  },
  {
   "cell_type": "markdown",
   "metadata": {},
   "source": [
    "No, simply passing on the DEGs is not enough, because a DEG list alone does not reveal any biological significance.\n",
    "\n",
    "In the publication, the authors performed Gene Ontology, IPA, and upstream regulator analyses to interpret the data functionally. \n"
   ]
  },
  {
   "cell_type": "markdown",
   "metadata": {},
   "source": [
    "Please reproduce the Venn Diagram from Figure 3, not taking into account the brain regions but just the contrasts mentionned."
   ]
  }
 ],
 "metadata": {
  "kernelspec": {
   "display_name": "workflows",
   "language": "python",
   "name": "python3"
  },
  "language_info": {
   "codemirror_mode": {
    "name": "ipython",
    "version": 3
   },
   "file_extension": ".py",
   "mimetype": "text/x-python",
   "name": "python",
   "nbconvert_exporter": "python",
   "pygments_lexer": "ipython3",
   "version": "3.13.7"
  }
 },
 "nbformat": 4,
 "nbformat_minor": 2
}
