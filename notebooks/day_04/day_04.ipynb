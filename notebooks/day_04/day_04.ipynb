{
 "cells": [
  {
   "cell_type": "markdown",
   "metadata": {},
   "source": [
    "# Day 6 - Nextflow Basics: Introduction to channels and operators"
   ]
  },
  {
   "cell_type": "markdown",
   "metadata": {},
   "source": [
    "Today, we will begin exploring Nextflow, the programming language that powers the advanced nf-core pipelines you worked with last week. Your task is to dive into the core concepts and syntax of Nextflow, understanding how this language enables the development of scalable and reproducible workflows.\n",
    "\n",
    "Nextflow works quite differently from traditional programming languages like Python or Java that you may already be familiar with. To get started, it is essential to understand the foundational concepts that set Nextflow apart."
   ]
  },
  {
   "cell_type": "markdown",
   "metadata": {},
   "source": [
    "### 1. Describe the concept of Workflows, Processes and Channels we deal with in Nextflow"
   ]
  },
  {
   "cell_type": "markdown",
   "metadata": {},
   "source": [
    "Workflows: A chain of processes linked by channels. It has one entry point and defines a dataflow. \n",
    "\n",
    "\n",
    "\n",
    "\n",
    "\n",
    "Processes: Processes are specialized functions that execute skripts - they are the individual steps of the workflow\n",
    "\n",
    "\n",
    "\n",
    "\n",
    "\n",
    "\n",
    "Channels: Link processes trough inputs and outputs"
   ]
  },
  {
   "cell_type": "markdown",
   "metadata": {},
   "source": [
    "## Introduction to channels\n",
    "\n",
    "Please refer to the file  $\\texttt{channels\\_intro.nf}$ for the next exercises. Then run the code with the respective flag here below. "
   ]
  },
  {
   "cell_type": "code",
   "execution_count": 6,
   "metadata": {},
   "outputs": [
    {
     "name": "stdout",
     "output_type": "stream",
     "text": [
      "\n",
      "\u001b[1m\u001b[38;5;232m\u001b[48;5;43m N E X T F L O W \u001b[0;2m  ~  \u001b[mversion 25.04.7\u001b[m\n",
      "\u001b[K\n",
      "Launching\u001b[35m `channels_intro.nf` \u001b[0;2m[\u001b[0;1;36mconfident_curry\u001b[0;2m] DSL2 - \u001b[36mrevision: \u001b[0;36mc8ed50636e\u001b[m\n",
      "\u001b[K\n",
      "1\n",
      "2\n",
      "3\n",
      "4\n",
      "5\n",
      "6\n",
      "7\n",
      "8\n",
      "9\n",
      "10\n"
     ]
    }
   ],
   "source": [
    "# Task 1 - Create a channel that enumerates the numbers from 1 to 10\n",
    "!nextflow run channels_intro.nf --step 1"
   ]
  },
  {
   "cell_type": "code",
   "execution_count": 7,
   "metadata": {},
   "outputs": [
    {
     "name": "stdout",
     "output_type": "stream",
     "text": [
      "\n",
      "\u001b[1m\u001b[38;5;232m\u001b[48;5;43m N E X T F L O W \u001b[0;2m  ~  \u001b[mversion 25.04.7\u001b[m\n",
      "\u001b[K\n",
      "Launching\u001b[35m `channels_intro.nf` \u001b[0;2m[\u001b[0;1;36mberserk_boyd\u001b[0;2m] DSL2 - \u001b[36mrevision: \u001b[0;36mc8ed50636e\u001b[m\n",
      "\u001b[K\n",
      "a\n",
      "...\n",
      "z\n"
     ]
    }
   ],
   "source": [
    "# Task 2 - Create a channel that gives out the entire alphabet\n",
    "!nextflow run channels_intro.nf --step 2"
   ]
  },
  {
   "cell_type": "code",
   "execution_count": 9,
   "metadata": {},
   "outputs": [
    {
     "name": "stdout",
     "output_type": "stream",
     "text": [
      "\n",
      "\u001b[1m\u001b[38;5;232m\u001b[48;5;43m N E X T F L O W \u001b[0;2m  ~  \u001b[mversion 25.04.7\u001b[m\n",
      "\u001b[K\n",
      "Launching\u001b[35m `channels_intro.nf` \u001b[0;2m[\u001b[0;1;36mnice_goodall\u001b[0;2m] DSL2 - \u001b[36mrevision: \u001b[0;36mc7338ed0c9\u001b[m\n",
      "\u001b[K\n",
      "/home/clara/computational-workflows-2025/notebooks/day_04/files_dir/SRR3_2.fq\n",
      "/home/clara/computational-workflows-2025/notebooks/day_04/files_dir/SRR2_2.fq\n",
      "/home/clara/computational-workflows-2025/notebooks/day_04/files_dir/fastq1_2.fq\n",
      "/home/clara/computational-workflows-2025/notebooks/day_04/files_dir/SRR4_1.fq\n",
      "/home/clara/computational-workflows-2025/notebooks/day_04/files_dir/fastq.fq\n",
      "/home/clara/computational-workflows-2025/notebooks/day_04/files_dir/fastq5_2.fq\n",
      "/home/clara/computational-workflows-2025/notebooks/day_04/files_dir/SRR5_2.fq\n",
      "/home/clara/computational-workflows-2025/notebooks/day_04/files_dir/fastq4_2.fq\n",
      "/home/clara/computational-workflows-2025/notebooks/day_04/files_dir/fastq4_1.fq\n",
      "/home/clara/computational-workflows-2025/notebooks/day_04/files_dir/fastq2_1.fq\n",
      "/home/clara/computational-workflows-2025/notebooks/day_04/files_dir/SRR1_1.fq\n",
      "/home/clara/computational-workflows-2025/notebooks/day_04/files_dir/fastq3_1.fq\n",
      "/home/clara/computational-workflows-2025/notebooks/day_04/files_dir/fastq_1.fq\n",
      "/home/clara/computational-workflows-2025/notebooks/day_04/files_dir/SRR4_2.fq\n",
      "/home/clara/computational-workflows-2025/notebooks/day_04/files_dir/fastq2_2.fq\n",
      "/home/clara/computational-workflows-2025/notebooks/day_04/files_dir/fastq5_1.fq\n",
      "/home/clara/computational-workflows-2025/notebooks/day_04/files_dir/file_2.txt\n",
      "/home/clara/computational-workflows-2025/notebooks/day_04/files_dir/SRR5_1.fq\n",
      "/home/clara/computational-workflows-2025/notebooks/day_04/files_dir/file_4.txt\n",
      "/home/clara/computational-workflows-2025/notebooks/day_04/files_dir/file_5.txt\n",
      "/home/clara/computational-workflows-2025/notebooks/day_04/files_dir/file_1.txt\n",
      "/home/clara/computational-workflows-2025/notebooks/day_04/files_dir/SRR1_2.fq\n",
      "/home/clara/computational-workflows-2025/notebooks/day_04/files_dir/SRR.fq\n",
      "/home/clara/computational-workflows-2025/notebooks/day_04/files_dir/fastq1_1.fq\n",
      "/home/clara/computational-workflows-2025/notebooks/day_04/files_dir/file_3.txt\n",
      "/home/clara/computational-workflows-2025/notebooks/day_04/files_dir/fastq_2.fq\n",
      "/home/clara/computational-workflows-2025/notebooks/day_04/files_dir/SRR2_1.fq\n",
      "/home/clara/computational-workflows-2025/notebooks/day_04/files_dir/fastq3_2.fq\n",
      "/home/clara/computational-workflows-2025/notebooks/day_04/files_dir/SRR3_1.fq\n"
     ]
    }
   ],
   "source": [
    "# Task 3 - Create a channel that includes all files in the \"files_dir\" directory\n",
    "!nextflow run channels_intro.nf --step 3"
   ]
  },
  {
   "cell_type": "code",
   "execution_count": 10,
   "metadata": {},
   "outputs": [
    {
     "name": "stdout",
     "output_type": "stream",
     "text": [
      "\n",
      "\u001b[1m\u001b[38;5;232m\u001b[48;5;43m N E X T F L O W \u001b[0;2m  ~  \u001b[mversion 25.04.7\u001b[m\n",
      "\u001b[K\n",
      "Launching\u001b[35m `channels_intro.nf` \u001b[0;2m[\u001b[0;1;36msilly_elion\u001b[0;2m] DSL2 - \u001b[36mrevision: \u001b[0;36m5d0caea8fe\u001b[m\n",
      "\u001b[K\n",
      "/home/clara/computational-workflows-2025/notebooks/day_04/files_dir/file_2.txt\n",
      "/home/clara/computational-workflows-2025/notebooks/day_04/files_dir/file_4.txt\n",
      "/home/clara/computational-workflows-2025/notebooks/day_04/files_dir/file_5.txt\n",
      "/home/clara/computational-workflows-2025/notebooks/day_04/files_dir/file_1.txt\n",
      "/home/clara/computational-workflows-2025/notebooks/day_04/files_dir/file_3.txt\n"
     ]
    }
   ],
   "source": [
    "# Task 4 - Create a channel that includes all TXT files in the \"files_dir\" directory\n",
    "!nextflow run channels_intro.nf --step 4"
   ]
  },
  {
   "cell_type": "code",
   "execution_count": 12,
   "metadata": {},
   "outputs": [
    {
     "name": "stdout",
     "output_type": "stream",
     "text": [
      "\n",
      "\u001b[1m\u001b[38;5;232m\u001b[48;5;43m N E X T F L O W \u001b[0;2m  ~  \u001b[mversion 25.04.7\u001b[m\n",
      "\u001b[K\n",
      "Launching\u001b[35m `channels_intro.nf` \u001b[0;2m[\u001b[0;1;36mpensive_gauss\u001b[0;2m] DSL2 - \u001b[36mrevision: \u001b[0;36mff9dc401f8\u001b[m\n",
      "\u001b[K\n",
      "./files_dir/fastq_1.fq\n",
      "./files_dir/fastq_2.fq\n"
     ]
    }
   ],
   "source": [
    "# Task 5 - Create a channel that includes the files \"fastq_1.fq\" and \"fastq_2.fq\" in the \"files_dir\" directory\n",
    "!nextflow run channels_intro.nf --step 5"
   ]
  },
  {
   "cell_type": "code",
   "execution_count": 21,
   "metadata": {},
   "outputs": [
    {
     "name": "stdout",
     "output_type": "stream",
     "text": [
      "\n",
      "\u001b[1m\u001b[38;5;232m\u001b[48;5;43m N E X T F L O W \u001b[0;2m  ~  \u001b[mversion 25.04.7\u001b[m\n",
      "\u001b[K\n",
      "Launching\u001b[35m `channels_intro.nf` \u001b[0;2m[\u001b[0;1;36mjovial_caravaggio\u001b[0;2m] DSL2 - \u001b[36mrevision: \u001b[0;36me84b05be5f\u001b[m\n",
      "\u001b[K\n",
      "/home/clara/computational-workflows-2025/notebooks/day_04/files_dir/.hidden_1.txt\n",
      "/home/clara/computational-workflows-2025/notebooks/day_04/files_dir/.hidden_2.txt\n",
      "/home/clara/computational-workflows-2025/notebooks/day_04/files_dir/SRR3_2.fq\n",
      "/home/clara/computational-workflows-2025/notebooks/day_04/files_dir/SRR2_2.fq\n",
      "/home/clara/computational-workflows-2025/notebooks/day_04/files_dir/fastq1_2.fq\n",
      "/home/clara/computational-workflows-2025/notebooks/day_04/files_dir/SRR4_1.fq\n",
      "/home/clara/computational-workflows-2025/notebooks/day_04/files_dir/fastq.fq\n",
      "/home/clara/computational-workflows-2025/notebooks/day_04/files_dir/fastq5_2.fq\n",
      "/home/clara/computational-workflows-2025/notebooks/day_04/files_dir/SRR5_2.fq\n",
      "/home/clara/computational-workflows-2025/notebooks/day_04/files_dir/fastq4_2.fq\n",
      "/home/clara/computational-workflows-2025/notebooks/day_04/files_dir/fastq4_1.fq\n",
      "/home/clara/computational-workflows-2025/notebooks/day_04/files_dir/fastq2_1.fq\n",
      "/home/clara/computational-workflows-2025/notebooks/day_04/files_dir/SRR1_1.fq\n",
      "/home/clara/computational-workflows-2025/notebooks/day_04/files_dir/fastq3_1.fq\n",
      "/home/clara/computational-workflows-2025/notebooks/day_04/files_dir/fastq_1.fq\n",
      "/home/clara/computational-workflows-2025/notebooks/day_04/files_dir/SRR4_2.fq\n",
      "/home/clara/computational-workflows-2025/notebooks/day_04/files_dir/fastq2_2.fq\n",
      "/home/clara/computational-workflows-2025/notebooks/day_04/files_dir/fastq5_1.fq\n",
      "/home/clara/computational-workflows-2025/notebooks/day_04/files_dir/file_2.txt\n",
      "/home/clara/computational-workflows-2025/notebooks/day_04/files_dir/SRR5_1.fq\n",
      "/home/clara/computational-workflows-2025/notebooks/day_04/files_dir/file_4.txt\n",
      "/home/clara/computational-workflows-2025/notebooks/day_04/files_dir/file_5.txt\n",
      "/home/clara/computational-workflows-2025/notebooks/day_04/files_dir/file_1.txt\n",
      "/home/clara/computational-workflows-2025/notebooks/day_04/files_dir/SRR1_2.fq\n",
      "/home/clara/computational-workflows-2025/notebooks/day_04/files_dir/SRR.fq\n",
      "/home/clara/computational-workflows-2025/notebooks/day_04/files_dir/fastq1_1.fq\n",
      "/home/clara/computational-workflows-2025/notebooks/day_04/files_dir/file_3.txt\n",
      "/home/clara/computational-workflows-2025/notebooks/day_04/files_dir/fastq_2.fq\n",
      "/home/clara/computational-workflows-2025/notebooks/day_04/files_dir/SRR2_1.fq\n",
      "/home/clara/computational-workflows-2025/notebooks/day_04/files_dir/fastq3_2.fq\n",
      "/home/clara/computational-workflows-2025/notebooks/day_04/files_dir/SRR3_1.fq\n"
     ]
    }
   ],
   "source": [
    "# Task 6 - go back to the time when you included all files. Are you sure that really ALL files are included? If not, how can you include them?\n",
    "!nextflow run channels_intro.nf --step 6"
   ]
  },
  {
   "cell_type": "code",
   "execution_count": 27,
   "metadata": {},
   "outputs": [
    {
     "name": "stdout",
     "output_type": "stream",
     "text": [
      "\n",
      "\u001b[1m\u001b[38;5;232m\u001b[48;5;43m N E X T F L O W \u001b[0;2m  ~  \u001b[mversion 25.04.7\u001b[m\n",
      "\u001b[K\n",
      "Launching\u001b[35m `channels_intro.nf` \u001b[0;2m[\u001b[0;1;36mgoofy_cuvier\u001b[0;2m] DSL2 - \u001b[36mrevision: \u001b[0;36me970195679\u001b[m\n",
      "\u001b[K\n",
      "[/home/clara/computational-workflows-2025/notebooks/day_04/files_dir/fastq.fq, /home/clara/computational-workflows-2025/notebooks/day_04/files_dir/SSR.fq]\n",
      "[/home/clara/computational-workflows-2025/notebooks/day_04/files_dir/fastq1_2.fq, /home/clara/computational-workflows-2025/notebooks/day_04/files_dir/SSR.fq]\n",
      "[/home/clara/computational-workflows-2025/notebooks/day_04/files_dir/fastq5_2.fq, /home/clara/computational-workflows-2025/notebooks/day_04/files_dir/SSR.fq]\n",
      "[/home/clara/computational-workflows-2025/notebooks/day_04/files_dir/fastq4_2.fq, /home/clara/computational-workflows-2025/notebooks/day_04/files_dir/SSR.fq]\n",
      "[/home/clara/computational-workflows-2025/notebooks/day_04/files_dir/fastq4_1.fq, /home/clara/computational-workflows-2025/notebooks/day_04/files_dir/SSR.fq]\n",
      "[/home/clara/computational-workflows-2025/notebooks/day_04/files_dir/fastq2_1.fq, /home/clara/computational-workflows-2025/notebooks/day_04/files_dir/SSR.fq]\n",
      "[/home/clara/computational-workflows-2025/notebooks/day_04/files_dir/fastq3_1.fq, /home/clara/computational-workflows-2025/notebooks/day_04/files_dir/SSR.fq]\n",
      "[/home/clara/computational-workflows-2025/notebooks/day_04/files_dir/fastq_1.fq, /home/clara/computational-workflows-2025/notebooks/day_04/files_dir/SSR.fq]\n",
      "[/home/clara/computational-workflows-2025/notebooks/day_04/files_dir/fastq2_2.fq, /home/clara/computational-workflows-2025/notebooks/day_04/files_dir/SSR.fq]\n",
      "[/home/clara/computational-workflows-2025/notebooks/day_04/files_dir/fastq5_1.fq, /home/clara/computational-workflows-2025/notebooks/day_04/files_dir/SSR.fq]\n",
      "[/home/clara/computational-workflows-2025/notebooks/day_04/files_dir/fastq1_1.fq, /home/clara/computational-workflows-2025/notebooks/day_04/files_dir/SSR.fq]\n",
      "[/home/clara/computational-workflows-2025/notebooks/day_04/files_dir/fastq_2.fq, /home/clara/computational-workflows-2025/notebooks/day_04/files_dir/SSR.fq]\n",
      "[/home/clara/computational-workflows-2025/notebooks/day_04/files_dir/fastq3_2.fq, /home/clara/computational-workflows-2025/notebooks/day_04/files_dir/SSR.fq]\n"
     ]
    }
   ],
   "source": [
    "# Task 7 - get all filepairs in the \"files_dir\" directory\n",
    "!nextflow run channels_intro.nf --step 7"
   ]
  },
  {
   "cell_type": "markdown",
   "metadata": {},
   "source": [
    "## Now that you have a solid understanding of the basic concepts of channels in Nextflow, it’s time to experiment and see how they work in practice."
   ]
  },
  {
   "cell_type": "markdown",
   "metadata": {},
   "source": [
    "To do so, Nextflow has the concept of Operators to give and pass information inbetween channels.\n",
    "\n",
    "Please answer the questions in $\\texttt{basic\\_channel\\_operations.nf}$ and run the code here. "
   ]
  },
  {
   "cell_type": "code",
   "execution_count": 29,
   "metadata": {},
   "outputs": [
    {
     "name": "stdout",
     "output_type": "stream",
     "text": [
      "\n",
      "\u001b[1m\u001b[38;5;232m\u001b[48;5;43m N E X T F L O W \u001b[0;2m  ~  \u001b[mversion 25.04.7\u001b[m\n",
      "\u001b[K\n",
      "Launching\u001b[35m `basic_channel_operations.nf` \u001b[0;2m[\u001b[0;1;36mchaotic_cori\u001b[0;2m] DSL2 - \u001b[36mrevision: \u001b[0;36ma22b2322a8\u001b[m\n",
      "\u001b[K\n",
      "1\n"
     ]
    }
   ],
   "source": [
    "# Task 1 - Extract the first item from the channel\n",
    "!nextflow run basic_channel_operations.nf --step 1"
   ]
  },
  {
   "cell_type": "code",
   "execution_count": 31,
   "metadata": {},
   "outputs": [
    {
     "name": "stdout",
     "output_type": "stream",
     "text": [
      "\n",
      "\u001b[1m\u001b[38;5;232m\u001b[48;5;43m N E X T F L O W \u001b[0;2m  ~  \u001b[mversion 25.04.7\u001b[m\n",
      "\u001b[K\n",
      "Launching\u001b[35m `basic_channel_operations.nf` \u001b[0;2m[\u001b[0;1;36mreverent_meitner\u001b[0;2m] DSL2 - \u001b[36mrevision: \u001b[0;36md91cd51665\u001b[m\n",
      "\u001b[K\n",
      "3\n"
     ]
    }
   ],
   "source": [
    "# Task 2 - Extract the last item from the channel\n",
    "!nextflow run basic_channel_operations.nf --step 2"
   ]
  },
  {
   "cell_type": "code",
   "execution_count": null,
   "metadata": {},
   "outputs": [],
   "source": [
    "# Task 3 - Use an operator to extract the first two items from the channel\n",
    "!nextflow run basic_channel_operations.nf --step 3"
   ]
  },
  {
   "cell_type": "code",
   "execution_count": 33,
   "metadata": {},
   "outputs": [
    {
     "name": "stdout",
     "output_type": "stream",
     "text": [
      "\n",
      "\u001b[1m\u001b[38;5;232m\u001b[48;5;43m N E X T F L O W \u001b[0;2m  ~  \u001b[mversion 25.04.7\u001b[m\n",
      "\u001b[K\n",
      "Launching\u001b[35m `basic_channel_operations.nf` \u001b[0;2m[\u001b[0;1;36mmagical_volhard\u001b[0;2m] DSL2 - \u001b[36mrevision: \u001b[0;36mf12f6a3f43\u001b[m\n",
      "\u001b[K\n",
      "4\n",
      "6\n",
      "8\n"
     ]
    }
   ],
   "source": [
    "# Task 4 - Return the squared values of the channel\n",
    "!nextflow run basic_channel_operations.nf --step 4"
   ]
  },
  {
   "cell_type": "code",
   "execution_count": 34,
   "metadata": {},
   "outputs": [
    {
     "name": "stdout",
     "output_type": "stream",
     "text": [
      "\n",
      "\u001b[1m\u001b[38;5;232m\u001b[48;5;43m N E X T F L O W \u001b[0;2m  ~  \u001b[mversion 25.04.7\u001b[m\n",
      "\u001b[K\n",
      "Launching\u001b[35m `basic_channel_operations.nf` \u001b[0;2m[\u001b[0;1;36mcheeky_bernard\u001b[0;2m] DSL2 - \u001b[36mrevision: \u001b[0;36m9fec436690\u001b[m\n",
      "\u001b[K\n",
      "4\n",
      "9\n"
     ]
    }
   ],
   "source": [
    "# Task 5 - Remember the previous task where you squared the values of the channel. Now, extract the first two items from the squared channel\n",
    "!nextflow run basic_channel_operations.nf --step 5"
   ]
  },
  {
   "cell_type": "code",
   "execution_count": 35,
   "metadata": {},
   "outputs": [
    {
     "name": "stdout",
     "output_type": "stream",
     "text": [
      "\n",
      "\u001b[1m\u001b[38;5;232m\u001b[48;5;43m N E X T F L O W \u001b[0;2m  ~  \u001b[mversion 25.04.7\u001b[m\n",
      "\u001b[K\n",
      "Launching\u001b[35m `basic_channel_operations.nf` \u001b[0;2m[\u001b[0;1;36mthirsty_linnaeus\u001b[0;2m] DSL2 - \u001b[36mrevision: \u001b[0;36m9fec436690\u001b[m\n",
      "\u001b[K\n",
      "5\n",
      "4\n",
      "3\n",
      "2\n",
      "1\n"
     ]
    }
   ],
   "source": [
    "# Task 6 - Remember when you used bash to reverse the output? Try to use map and Groovy to reverse the output\n",
    "!nextflow run basic_channel_operations.nf --step 6"
   ]
  },
  {
   "cell_type": "code",
   "execution_count": 37,
   "metadata": {},
   "outputs": [
    {
     "name": "stdout",
     "output_type": "stream",
     "text": [
      "\n",
      "\u001b[1m\u001b[38;5;232m\u001b[48;5;43m N E X T F L O W \u001b[0;2m  ~  \u001b[mversion 25.04.7\u001b[m\n",
      "\u001b[K\n",
      "Launching\u001b[35m `basic_channel_operations.nf` \u001b[0;2m[\u001b[0;1;36mromantic_ekeblad\u001b[0;2m] DSL2 - \u001b[36mrevision: \u001b[0;36mc5874f80e0\u001b[m\n",
      "\u001b[K\n",
      "[SRR3_2.fq, /home/clara/computational-workflows-2025/notebooks/day_04/files_dir/SRR3_2.fq]\n",
      "[SRR2_2.fq, /home/clara/computational-workflows-2025/notebooks/day_04/files_dir/SRR2_2.fq]\n",
      "[fastq1_2.fq, /home/clara/computational-workflows-2025/notebooks/day_04/files_dir/fastq1_2.fq]\n",
      "[SRR4_1.fq, /home/clara/computational-workflows-2025/notebooks/day_04/files_dir/SRR4_1.fq]\n",
      "[fastq.fq, /home/clara/computational-workflows-2025/notebooks/day_04/files_dir/fastq.fq]\n",
      "[fastq5_2.fq, /home/clara/computational-workflows-2025/notebooks/day_04/files_dir/fastq5_2.fq]\n",
      "[SRR5_2.fq, /home/clara/computational-workflows-2025/notebooks/day_04/files_dir/SRR5_2.fq]\n",
      "[fastq4_2.fq, /home/clara/computational-workflows-2025/notebooks/day_04/files_dir/fastq4_2.fq]\n",
      "[fastq4_1.fq, /home/clara/computational-workflows-2025/notebooks/day_04/files_dir/fastq4_1.fq]\n",
      "[fastq2_1.fq, /home/clara/computational-workflows-2025/notebooks/day_04/files_dir/fastq2_1.fq]\n",
      "[SRR1_1.fq, /home/clara/computational-workflows-2025/notebooks/day_04/files_dir/SRR1_1.fq]\n",
      "[fastq3_1.fq, /home/clara/computational-workflows-2025/notebooks/day_04/files_dir/fastq3_1.fq]\n",
      "[fastq_1.fq, /home/clara/computational-workflows-2025/notebooks/day_04/files_dir/fastq_1.fq]\n",
      "[SRR4_2.fq, /home/clara/computational-workflows-2025/notebooks/day_04/files_dir/SRR4_2.fq]\n",
      "[fastq2_2.fq, /home/clara/computational-workflows-2025/notebooks/day_04/files_dir/fastq2_2.fq]\n",
      "[fastq5_1.fq, /home/clara/computational-workflows-2025/notebooks/day_04/files_dir/fastq5_1.fq]\n",
      "[SRR5_1.fq, /home/clara/computational-workflows-2025/notebooks/day_04/files_dir/SRR5_1.fq]\n",
      "[SRR1_2.fq, /home/clara/computational-workflows-2025/notebooks/day_04/files_dir/SRR1_2.fq]\n",
      "[SRR.fq, /home/clara/computational-workflows-2025/notebooks/day_04/files_dir/SRR.fq]\n",
      "[fastq1_1.fq, /home/clara/computational-workflows-2025/notebooks/day_04/files_dir/fastq1_1.fq]\n",
      "[fastq_2.fq, /home/clara/computational-workflows-2025/notebooks/day_04/files_dir/fastq_2.fq]\n",
      "[SRR2_1.fq, /home/clara/computational-workflows-2025/notebooks/day_04/files_dir/SRR2_1.fq]\n",
      "[fastq3_2.fq, /home/clara/computational-workflows-2025/notebooks/day_04/files_dir/fastq3_2.fq]\n",
      "[SRR3_1.fq, /home/clara/computational-workflows-2025/notebooks/day_04/files_dir/SRR3_1.fq]\n"
     ]
    }
   ],
   "source": [
    "# Task 7 - Use fromPath to include all fastq files in the \"files_dir\" directory, then use map to return a pair containing the file name and the file path (Hint: include groovy code)\n",
    "!nextflow run basic_channel_operations.nf --step 7"
   ]
  },
  {
   "cell_type": "code",
   "execution_count": 38,
   "metadata": {},
   "outputs": [
    {
     "name": "stdout",
     "output_type": "stream",
     "text": [
      "\n",
      "\u001b[1m\u001b[38;5;232m\u001b[48;5;43m N E X T F L O W \u001b[0;2m  ~  \u001b[mversion 25.04.7\u001b[m\n",
      "\u001b[K\n",
      "Launching\u001b[35m `basic_channel_operations.nf` \u001b[0;2m[\u001b[0;1;36mtender_lagrange\u001b[0;2m] DSL2 - \u001b[36mrevision: \u001b[0;36m9b31389554\u001b[m\n",
      "\u001b[K\n",
      "1\n",
      "2\n",
      "3\n",
      "4\n",
      "5\n",
      "6\n"
     ]
    }
   ],
   "source": [
    "# Task 8 - Combine the items from the two channels into a single channel\n",
    "!nextflow run basic_channel_operations.nf --step 8"
   ]
  },
  {
   "cell_type": "code",
   "execution_count": 40,
   "metadata": {},
   "outputs": [
    {
     "name": "stdout",
     "output_type": "stream",
     "text": [
      "\n",
      "\u001b[1m\u001b[38;5;232m\u001b[48;5;43m N E X T F L O W \u001b[0;2m  ~  \u001b[mversion 25.04.7\u001b[m\n",
      "\u001b[K\n",
      "Launching\u001b[35m `basic_channel_operations.nf` \u001b[0;2m[\u001b[0;1;36mcheeky_sammet\u001b[0;2m] DSL2 - \u001b[36mrevision: \u001b[0;36mf08cb302bf\u001b[m\n",
      "\u001b[K\n",
      "1\n",
      "2\n",
      "3\n",
      "4\n",
      "5\n",
      "6\n"
     ]
    }
   ],
   "source": [
    "# Task 9 - Flatten the list in the channel\n",
    "!nextflow run basic_channel_operations.nf --step 9"
   ]
  },
  {
   "cell_type": "code",
   "execution_count": 41,
   "metadata": {},
   "outputs": [
    {
     "name": "stdout",
     "output_type": "stream",
     "text": [
      "\n",
      "\u001b[1m\u001b[38;5;232m\u001b[48;5;43m N E X T F L O W \u001b[0;2m  ~  \u001b[mversion 25.04.7\u001b[m\n",
      "\u001b[K\n",
      "Launching\u001b[35m `basic_channel_operations.nf` \u001b[0;2m[\u001b[0;1;36mshrivelled_engelbart\u001b[0;2m] DSL2 - \u001b[36mrevision: \u001b[0;36mf08cb302bf\u001b[m\n",
      "\u001b[K\n",
      "[1, 2, 3]\n"
     ]
    }
   ],
   "source": [
    "# Task 10 - Collect the items of a channel into a list. What kind of channel is the output channel?\n",
    "!nextflow run basic_channel_operations.nf --step 10"
   ]
  },
  {
   "cell_type": "markdown",
   "metadata": {},
   "source": [
    "What kind of channel is the output channel?"
   ]
  },
  {
   "cell_type": "code",
   "execution_count": 44,
   "metadata": {},
   "outputs": [
    {
     "name": "stdout",
     "output_type": "stream",
     "text": [
      "\n",
      "\u001b[1m\u001b[38;5;232m\u001b[48;5;43m N E X T F L O W \u001b[0;2m  ~  \u001b[mversion 25.04.7\u001b[m\n",
      "\u001b[K\n",
      "Launching\u001b[35m `basic_channel_operations.nf` \u001b[0;2m[\u001b[0;1;36magitated_linnaeus\u001b[0;2m] DSL2 - \u001b[36mrevision: \u001b[0;36mc6efe42856\u001b[m\n",
      "\u001b[K\n",
      "[[1, [V, f, B]], [2, [O, L, E]], [3, [M, G, 33]]]\n"
     ]
    }
   ],
   "source": [
    "# Task 11 -  From the input channel, create lists where each first item in the list of lists is the first item in the output channel, followed by a list of all the items its paired with\n",
    "!nextflow run basic_channel_operations.nf --step 11"
   ]
  },
  {
   "cell_type": "code",
   "execution_count": 45,
   "metadata": {},
   "outputs": [
    {
     "name": "stdout",
     "output_type": "stream",
     "text": [
      "\n",
      "\u001b[1m\u001b[38;5;232m\u001b[48;5;43m N E X T F L O W \u001b[0;2m  ~  \u001b[mversion 25.04.7\u001b[m\n",
      "\u001b[K\n",
      "Launching\u001b[35m `basic_channel_operations.nf` \u001b[0;2m[\u001b[0;1;36msharp_lalande\u001b[0;2m] DSL2 - \u001b[36mrevision: \u001b[0;36m118f3933c6\u001b[m\n",
      "\u001b[K\n",
      "[1, V, f]\n",
      "[3, M, G]\n",
      "[2, O, L]\n"
     ]
    }
   ],
   "source": [
    "# Task 12 - Create a channel that joins the input to the output channel. What do you notice?\n",
    "!nextflow run basic_channel_operations.nf --step 12"
   ]
  },
  {
   "cell_type": "markdown",
   "metadata": {},
   "source": [
    "Task 12 - What do you notice compared to Task 11?"
   ]
  },
  {
   "cell_type": "markdown",
   "metadata": {},
   "source": [
    "With the basic join operation: There are missing values (only the first instance of [1, *] in each channel is present in the output, for example). It also produces three separate lists rather than a list of lists."
   ]
  },
  {
   "cell_type": "code",
   "execution_count": 48,
   "metadata": {},
   "outputs": [
    {
     "name": "stdout",
     "output_type": "stream",
     "text": [
      "\n",
      "\u001b[1m\u001b[38;5;232m\u001b[48;5;43m N E X T F L O W \u001b[0;2m  ~  \u001b[mversion 25.04.7\u001b[m\n",
      "\u001b[K\n",
      "Launching\u001b[35m `basic_channel_operations.nf` \u001b[0;2m[\u001b[0;1;36magitated_mclean\u001b[0;2m] DSL2 - \u001b[36mrevision: \u001b[0;36m6391fc3aee\u001b[m\n",
      "\u001b[K\n",
      "Even numbers: [2, 4, 6, 8, 10]\n",
      "Odd numbers:  [1, 3, 5, 7, 9]\n"
     ]
    }
   ],
   "source": [
    "# Task 13 - Split the input channel into two channels, one of all the even numbers and the other of all the odd numbers.\n",
    "#           Write them to stdout including information about which is which\n",
    "!nextflow run basic_channel_operations.nf --step 13 -dump-channels"
   ]
  },
  {
   "cell_type": "code",
   "execution_count": 50,
   "metadata": {},
   "outputs": [
    {
     "name": "stdout",
     "output_type": "stream",
     "text": [
      "\n",
      "\u001b[1m\u001b[38;5;232m\u001b[48;5;43m N E X T F L O W \u001b[0;2m  ~  \u001b[mversion 25.04.7\u001b[m\n",
      "\u001b[K\n",
      "Launching\u001b[35m `basic_channel_operations.nf` \u001b[0;2m[\u001b[0;1;36mromantic_northcutt\u001b[0;2m] DSL2 - \u001b[36mrevision: \u001b[0;36m4f8feaf549\u001b[m\n",
      "\u001b[K\n",
      "Written names.txt with 7 names.\n",
      "Harry\n",
      "Ron\n",
      "Hermione\n",
      "Albus\n",
      "Snape\n",
      "Hagrid\n",
      "Dobby\n"
     ]
    }
   ],
   "source": [
    "# Task 14 - Nextflow has the concept of maps. Write the names in the maps in this channel to a file called \"names.txt\". Each name should be on a new line. \n",
    "#           Store the file in the \"results\" directory under the name \"names.txt\"\n",
    "\n",
    "!nextflow run basic_channel_operations.nf --step 14\n",
    "\n",
    "!cat results/names.txt\n"
   ]
  },
  {
   "cell_type": "markdown",
   "metadata": {},
   "source": [
    "## Now that we learned about Channels and Operators to deal with them, let's focus on Processes that make use of these channels."
   ]
  },
  {
   "cell_type": "markdown",
   "metadata": {},
   "source": [
    "Please answer the questions in $\\texttt{basics\\_processes.nf}$ and run the code here. "
   ]
  },
  {
   "cell_type": "code",
   "execution_count": 51,
   "metadata": {},
   "outputs": [
    {
     "name": "stdout",
     "output_type": "stream",
     "text": [
      "\n",
      "\u001b[1m\u001b[38;5;232m\u001b[48;5;43m N E X T F L O W \u001b[0;2m  ~  \u001b[mversion 25.04.7\u001b[m\n",
      "\u001b[K\n",
      "Launching\u001b[35m `basics_processes.nf` \u001b[0;2m[\u001b[0;1;36melegant_marconi\u001b[0;2m] DSL2 - \u001b[36mrevision: \u001b[0;36m0bbb3c8a09\u001b[m\n",
      "\u001b[K\n",
      "\u001b[2m[\u001b[0;34m-        \u001b[0;2m] \u001b[0;2m\u001b[mSAYHELLO -\u001b[K\n",
      "\u001b[2A\n",
      "\u001b[2mexecutor >  local (1)\u001b[m\u001b[K\n",
      "\u001b[2m[\u001b[0;34m35/820c7e\u001b[0;2m] \u001b[0;2m\u001b[mSAYHELLO\u001b[2m |\u001b[m 1 of 1\u001b[32m ✔\u001b[m\u001b[K\n",
      "Hello World!\u001b[K\n",
      "\u001b[K\n",
      "\n"
     ]
    }
   ],
   "source": [
    "# Task 1 - create a process that says Hello World! (add debug true to the process right after initializing to be sable to print the output to the console)\n",
    "!nextflow run basics_processes.nf --step 1"
   ]
  },
  {
   "cell_type": "code",
   "execution_count": 56,
   "metadata": {},
   "outputs": [
    {
     "name": "stdout",
     "output_type": "stream",
     "text": [
      "\n",
      "\u001b[1m\u001b[38;5;232m\u001b[48;5;43m N E X T F L O W \u001b[0;2m  ~  \u001b[mversion 25.04.7\u001b[m\n",
      "\u001b[K\n",
      "Launching\u001b[35m `basics_processes.nf` \u001b[0;2m[\u001b[0;1;36mmighty_laplace\u001b[0;2m] DSL2 - \u001b[36mrevision: \u001b[0;36maecf8a5991\u001b[m\n",
      "\u001b[K\n",
      "\u001b[2m[\u001b[0;34m-        \u001b[0;2m] \u001b[0;2m\u001b[mSAYHELLO_PYTHON\u001b[2m |\u001b[m 0 of 1\u001b[K\n",
      "\u001b[2A\n",
      "\u001b[2mexecutor >  local (1)\u001b[m\u001b[K\n",
      "\u001b[2m[\u001b[0;34m80/8016f8\u001b[0;2m] \u001b[0;2m\u001b[mSAYHELLO_PYTHON\u001b[2m |\u001b[m 1 of 1\u001b[32m ✔\u001b[m\u001b[K\n",
      "Hello world\u001b[K\n",
      "\u001b[K\n",
      "\n"
     ]
    }
   ],
   "source": [
    "# Task 2 - create a process that says Hello World! using Python\n",
    "!nextflow run basics_processes.nf --step 2"
   ]
  },
  {
   "cell_type": "code",
   "execution_count": 57,
   "metadata": {},
   "outputs": [
    {
     "name": "stdout",
     "output_type": "stream",
     "text": [
      "\n",
      "\u001b[1m\u001b[38;5;232m\u001b[48;5;43m N E X T F L O W \u001b[0;2m  ~  \u001b[mversion 25.04.7\u001b[m\n",
      "\u001b[K\n",
      "Launching\u001b[35m `basics_processes.nf` \u001b[0;2m[\u001b[0;1;36mtiny_archimedes\u001b[0;2m] DSL2 - \u001b[36mrevision: \u001b[0;36m3b675c5c3b\u001b[m\n",
      "\u001b[K\n",
      "\u001b[2m[\u001b[0;34m-        \u001b[0;2m] \u001b[0;2m\u001b[mSAYHELLO_PARAM -\u001b[K\n",
      "\u001b[2A\n",
      "\u001b[2mexecutor >  local (1)\u001b[m\u001b[K\n",
      "\u001b[2m[\u001b[0;34m36/b2eefc\u001b[0;2m] \u001b[0;2m\u001b[mSAYHELLO_PARAM\u001b[33;2m (\u001b[0;33m1\u001b[2m)\u001b[m\u001b[2m |\u001b[m 1 of 1\u001b[32m ✔\u001b[m\u001b[K\n",
      "Hello world!\u001b[K\n",
      "\u001b[K\n",
      "\n"
     ]
    }
   ],
   "source": [
    "# Task 3 - create a process that reads in the string \"Hello world!\" from a channel and write it to command line\n",
    "!nextflow run basics_processes.nf --step 3"
   ]
  },
  {
   "cell_type": "code",
   "execution_count": 58,
   "metadata": {},
   "outputs": [
    {
     "name": "stdout",
     "output_type": "stream",
     "text": [
      "\n",
      "\u001b[1m\u001b[38;5;232m\u001b[48;5;43m N E X T F L O W \u001b[0;2m  ~  \u001b[mversion 25.04.7\u001b[m\n",
      "\u001b[K\n",
      "Launching\u001b[35m `basics_processes.nf` \u001b[0;2m[\u001b[0;1;36mlethal_mcnulty\u001b[0;2m] DSL2 - \u001b[36mrevision: \u001b[0;36m6e8974f82d\u001b[m\n",
      "\u001b[K\n",
      "\u001b[2m[\u001b[0;34m-        \u001b[0;2m] \u001b[0;2m\u001b[mSAYHELLO_FILE -\u001b[K\n",
      "\u001b[2A\n",
      "\u001b[2mexecutor >  local (1)\u001b[m\u001b[K\n",
      "\u001b[2m[\u001b[0;34m92/40c0ad\u001b[0;2m] \u001b[0;2m\u001b[mSAYHELLO_FILE\u001b[33;2m (\u001b[0;33m1\u001b[2m)\u001b[m\u001b[2m |\u001b[m 1 of 1\u001b[32m ✔\u001b[m\u001b[K\n",
      "\n"
     ]
    }
   ],
   "source": [
    "# Task 4 - create a process that reads in the string \"Hello world!\" from a channel and write it to a file. \n",
    "!nextflow run basics_processes.nf --step 4"
   ]
  },
  {
   "cell_type": "markdown",
   "metadata": {},
   "source": [
    "It might be that you created the file but it doesnt appear in the directory. Use the work folder and the output on the command line to find the file."
   ]
  },
  {
   "cell_type": "code",
   "execution_count": 60,
   "metadata": {},
   "outputs": [
    {
     "name": "stdout",
     "output_type": "stream",
     "text": [
      "\n",
      "\u001b[1m\u001b[38;5;232m\u001b[48;5;43m N E X T F L O W \u001b[0;2m  ~  \u001b[mversion 25.04.7\u001b[m\n",
      "\u001b[K\n",
      "Launching\u001b[35m `basics_processes.nf` \u001b[0;2m[\u001b[0;1;36mdisturbed_celsius\u001b[0;2m] DSL2 - \u001b[36mrevision: \u001b[0;36m076a399bc1\u001b[m\n",
      "\u001b[K\n",
      "\u001b[2mexecutor >  local (1)\u001b[m\u001b[K\n",
      "\u001b[2m[\u001b[0;34mac/31b771\u001b[0;2m] \u001b[0;2m\u001b[mUPPERCASE\u001b[33;2m (\u001b[0;33m1\u001b[2m)\u001b[m\u001b[2m |\u001b[m 1 of 1\u001b[32m ✔\u001b[m\u001b[K\n",
      "File created at: /home/clara/computational-workflows-2025/notebooks/day_04/work/ac/31b7711ac28ff8d59b308ee219c7af/uppercase.txt\u001b[K\n",
      "\u001b[4A\n",
      "\u001b[2mexecutor >  local (1)\u001b[m\u001b[K\n",
      "\u001b[2m[\u001b[0;34mac/31b771\u001b[0;2m] \u001b[0;2m\u001b[mUPPERCASE\u001b[33;2m (\u001b[0;33m1\u001b[2m)\u001b[m\u001b[2m |\u001b[m 1 of 1\u001b[32m ✔\u001b[m\u001b[K\n",
      "File created at: /home/clara/computational-workflows-2025/notebooks/day_04/work/ac/31b7711ac28ff8d59b308ee219c7af/uppercase.txt\u001b[K\n",
      "\n"
     ]
    }
   ],
   "source": [
    "# Task 5 - create a process that reads in a string and converts it to uppercase and saves it to a file as output. View the path to the file in the console\n",
    "!nextflow run basics_processes.nf --step 5"
   ]
  },
  {
   "cell_type": "code",
   "execution_count": 61,
   "metadata": {},
   "outputs": [
    {
     "name": "stdout",
     "output_type": "stream",
     "text": [
      "\n",
      "\u001b[1m\u001b[38;5;232m\u001b[48;5;43m N E X T F L O W \u001b[0;2m  ~  \u001b[mversion 25.04.7\u001b[m\n",
      "\u001b[K\n",
      "Launching\u001b[35m `basics_processes.nf` \u001b[0;2m[\u001b[0;1;36mdesperate_church\u001b[0;2m] DSL2 - \u001b[36mrevision: \u001b[0;36m47ebec39cc\u001b[m\n",
      "\u001b[K\n",
      "\u001b[2m[\u001b[0;34m-        \u001b[0;2m] \u001b[0;2m\u001b[mUPPERCASE  -\u001b[K\n",
      "\u001b[2m[\u001b[0;34m-        \u001b[0;2m] \u001b[0;2m\u001b[mPRINTUPPER -\u001b[K\n",
      "\u001b[3A\n",
      "\u001b[2mexecutor >  local (2)\u001b[m\u001b[K\n",
      "\u001b[2m[\u001b[0;34m61/bc2b76\u001b[0;2m] \u001b[0;2m\u001b[mUPPERCASE\u001b[33;2m (\u001b[0;33m1\u001b[2m)\u001b[m \u001b[2m |\u001b[m 1 of 1\u001b[32m ✔\u001b[m\u001b[K\n",
      "\u001b[2m[\u001b[0;34m57/72838c\u001b[0;2m] \u001b[0;2m\u001b[mPRINTUPPER\u001b[33;2m (\u001b[0;33m1\u001b[2m)\u001b[m\u001b[2m |\u001b[m 1 of 1\u001b[32m ✔\u001b[m\u001b[K\n",
      "Hello world!.toUpperCase\u001b[K\n",
      "\u001b[K\n",
      "\u001b[6A\n",
      "\u001b[2mexecutor >  local (2)\u001b[m\u001b[K\n",
      "\u001b[2m[\u001b[0;34m61/bc2b76\u001b[0;2m] \u001b[0;2m\u001b[mUPPERCASE\u001b[33;2m (\u001b[0;33m1\u001b[2m)\u001b[m \u001b[2m |\u001b[m 1 of 1\u001b[32m ✔\u001b[m\u001b[K\n",
      "\u001b[2m[\u001b[0;34m57/72838c\u001b[0;2m] \u001b[0;2m\u001b[mPRINTUPPER\u001b[33;2m (\u001b[0;33m1\u001b[2m)\u001b[m\u001b[2m |\u001b[m 1 of 1\u001b[32m ✔\u001b[m\u001b[K\n",
      "Hello world!.toUpperCase\u001b[K\n",
      "\u001b[K\n",
      "\n"
     ]
    }
   ],
   "source": [
    "# Task 6 - add another process that reads in the resulting file from UPPERCASE and print the content to the console (debug true).\n",
    "!nextflow run basics_processes.nf --step 6"
   ]
  },
  {
   "cell_type": "markdown",
   "metadata": {},
   "source": [
    "Comared to all the other runs. What changed in the output here and why?"
   ]
  },
  {
   "cell_type": "markdown",
   "metadata": {},
   "source": [
    "It first shows an overview over all processes channeled together, then the individual processes and results"
   ]
  },
  {
   "cell_type": "code",
   "execution_count": 65,
   "metadata": {},
   "outputs": [
    {
     "name": "stdout",
     "output_type": "stream",
     "text": [
      "\n",
      "\u001b[1m\u001b[38;5;232m\u001b[48;5;43m N E X T F L O W \u001b[0;2m  ~  \u001b[mversion 25.04.7\u001b[m\n",
      "\u001b[K\n",
      "Launching\u001b[35m `basics_processes.nf` \u001b[0;2m[\u001b[0;1;36mmad_hugle\u001b[0;2m] DSL2 - \u001b[36mrevision: \u001b[0;36m9358aeadb1\u001b[m\n",
      "\u001b[K\n",
      "\u001b[2mexecutor >  local (1)\u001b[m\u001b[K\n",
      "\u001b[2m[\u001b[0;34mbf/87fcce\u001b[0;2m] \u001b[0;2m\u001b[mUPPERCASE\u001b[33;2m (\u001b[0;33m1\u001b[2m)\u001b[m\u001b[2m |\u001b[m 0 of 1\u001b[K\n",
      "\u001b[2m[\u001b[0;34m-        \u001b[0;2m] \u001b[0;2m\u001b[mZIPFILE       -\u001b[K\n",
      "\u001b[4A\n",
      "\u001b[2mexecutor >  local (2)\u001b[m\u001b[K\n",
      "\u001b[2m[\u001b[0;34mbf/87fcce\u001b[0;2m] \u001b[0;2m\u001b[mUPPERCASE\u001b[33;2m (\u001b[0;33m1\u001b[2m)\u001b[m\u001b[2m |\u001b[m 1 of 1\u001b[32m ✔\u001b[m\u001b[K\n",
      "\u001b[2m[\u001b[0;34mb9/4001dd\u001b[0;2m] \u001b[0;2m\u001b[mZIPFILE\u001b[33;2m (\u001b[0;33m1\u001b[2m)\u001b[m  \u001b[2m |\u001b[m 1 of 1\u001b[32m ✔\u001b[m\u001b[K\n",
      "  adding: uppercase.txt (stored 0%)\u001b[K\n",
      "\u001b[K\n",
      "/home/clara/computational-workflows-2025/notebooks/day_04/work/b9/4001dd3d70412d976b86979fe2cd10/uppercase.zip\u001b[K\n",
      "\n"
     ]
    }
   ],
   "source": [
    "# Task 7 - based on the paramater \"zip\" (see at the head of the file), create a process that zips the file created in the UPPERCASE process either in \"zip\", \"gzip\" OR \"bzip2\" format.\n",
    "#          Print out the path to the zipped file in the console\n",
    "!nextflow run basics_processes.nf --step 7"
   ]
  },
  {
   "cell_type": "code",
   "execution_count": 71,
   "metadata": {},
   "outputs": [
    {
     "name": "stdout",
     "output_type": "stream",
     "text": [
      "\n",
      "\u001b[1m\u001b[38;5;232m\u001b[48;5;43m N E X T F L O W \u001b[0;2m  ~  \u001b[mversion 25.04.7\u001b[m\n",
      "\u001b[K\n",
      "Launching\u001b[35m `basics_processes.nf` \u001b[0;2m[\u001b[0;1;36mcheeky_yonath\u001b[0;2m] DSL2 - \u001b[36mrevision: \u001b[0;36m52fa5afdb3\u001b[m\n",
      "\u001b[K\n",
      "\u001b[2m[\u001b[0;34m-        \u001b[0;2m] \u001b[0;2m\u001b[mUPPERCASE\u001b[2m |\u001b[m 0 of 1\u001b[K\n",
      "\u001b[2m[\u001b[0;34m-        \u001b[0;2m] \u001b[0;2m\u001b[mZIPALL    -\u001b[K\n",
      "\u001b[3A\n",
      "\u001b[2mexecutor >  local (2)\u001b[m\u001b[K\n",
      "\u001b[2m[\u001b[0;34mf9/54d888\u001b[0;2m] \u001b[0;2m\u001b[mUPPERCASE\u001b[33;2m (\u001b[0;33m1\u001b[2m)\u001b[m\u001b[2m |\u001b[m 1 of 1\u001b[32m ✔\u001b[m\u001b[K\n",
      "\u001b[2m[\u001b[0;34m85/5294e0\u001b[0;2m] \u001b[0;2m\u001b[mZIPALL\u001b[33;2m (\u001b[0;33m1\u001b[2m)\u001b[m   \u001b[2m |\u001b[m 1 of 1\u001b[32m ✔\u001b[m\u001b[K\n",
      "  adding: uppercase.txt (stored 0%)\u001b[K\n",
      "\u001b[K\n",
      "/home/clara/computational-workflows-2025/notebooks/day_04/work/85/5294e08de7a05eb80b69b4c79379d1/uppercase.zip\u001b[K\n",
      "/home/clara/computational-workflows-2025/notebooks/day_04/work/85/5294e08de7a05eb80b69b4c79379d1/uppercase.txt.gz\u001b[K\n",
      "/home/clara/computational-workflows-2025/notebooks/day_04/work/85/5294e08de7a05eb80b69b4c79379d1/uppercase.txt.bz2\u001b[K\n",
      "\n"
     ]
    }
   ],
   "source": [
    "# Task 8 - Create a process that zips the file created in the UPPERCASE process in \"zip\", \"gzip\" AND \"bzip2\" format. Print out the paths to the zipped files in the console\n",
    "!nextflow run basics_processes.nf --step 8"
   ]
  },
  {
   "cell_type": "code",
   "execution_count": 77,
   "metadata": {},
   "outputs": [
    {
     "name": "stdout",
     "output_type": "stream",
     "text": [
      "\n",
      "\u001b[1m\u001b[38;5;232m\u001b[48;5;43m N E X T F L O W \u001b[0;2m  ~  \u001b[mversion 25.04.7\u001b[m\n",
      "\u001b[K\n",
      "Launching\u001b[35m `basics_processes.nf` \u001b[0;2m[\u001b[0;1;36mintergalactic_cajal\u001b[0;2m] DSL2 - \u001b[36mrevision: \u001b[0;36m7fdd7c1271\u001b[m\n",
      "\u001b[K\n",
      "\u001b[2m[\u001b[0;34m-        \u001b[0;2m] \u001b[0;2m\u001b[mWRITE_NAMES -\u001b[K\n",
      "\u001b[2A\n",
      "\u001b[2mexecutor >  local (1)\u001b[m\u001b[K\n",
      "\u001b[2m[\u001b[0;34m33/8f17ff\u001b[0;2m] \u001b[0;2m\u001b[mWRITE_NAMES\u001b[2m |\u001b[m 1 of 1\u001b[32m ✔\u001b[m\u001b[K\n",
      "\n"
     ]
    }
   ],
   "source": [
    " # Task 9 - Create a process that reads in a list of names and titles from a channel and writes them to a file.\n",
    "#           Store the file in the \"results\" directory under the name \"names.tsv\"\n",
    "!nextflow run basics_processes.nf --step 9"
   ]
  },
  {
   "cell_type": "code",
   "execution_count": 80,
   "metadata": {},
   "outputs": [
    {
     "data": {
      "text/html": [
       "<div>\n",
       "<style scoped>\n",
       "    .dataframe tbody tr th:only-of-type {\n",
       "        vertical-align: middle;\n",
       "    }\n",
       "\n",
       "    .dataframe tbody tr th {\n",
       "        vertical-align: top;\n",
       "    }\n",
       "\n",
       "    .dataframe thead th {\n",
       "        text-align: right;\n",
       "    }\n",
       "</style>\n",
       "<table border=\"1\" class=\"dataframe\">\n",
       "  <thead>\n",
       "    <tr style=\"text-align: right;\">\n",
       "      <th></th>\n",
       "      <th>name</th>\n",
       "      <th>title</th>\n",
       "    </tr>\n",
       "  </thead>\n",
       "  <tbody>\n",
       "    <tr>\n",
       "      <th>0</th>\n",
       "      <td>Harry</td>\n",
       "      <td>student</td>\n",
       "    </tr>\n",
       "    <tr>\n",
       "      <th>1</th>\n",
       "      <td>Ron</td>\n",
       "      <td>student</td>\n",
       "    </tr>\n",
       "    <tr>\n",
       "      <th>2</th>\n",
       "      <td>Hermione</td>\n",
       "      <td>student</td>\n",
       "    </tr>\n",
       "    <tr>\n",
       "      <th>3</th>\n",
       "      <td>Albus</td>\n",
       "      <td>headmaster</td>\n",
       "    </tr>\n",
       "    <tr>\n",
       "      <th>4</th>\n",
       "      <td>Snape</td>\n",
       "      <td>teacher</td>\n",
       "    </tr>\n",
       "    <tr>\n",
       "      <th>5</th>\n",
       "      <td>Hagrid</td>\n",
       "      <td>groundkeeper</td>\n",
       "    </tr>\n",
       "    <tr>\n",
       "      <th>6</th>\n",
       "      <td>Dobby</td>\n",
       "      <td>hero</td>\n",
       "    </tr>\n",
       "  </tbody>\n",
       "</table>\n",
       "</div>"
      ],
      "text/plain": [
       "       name         title\n",
       "0     Harry       student\n",
       "1       Ron       student\n",
       "2  Hermione       student\n",
       "3     Albus    headmaster\n",
       "4     Snape       teacher\n",
       "5    Hagrid  groundkeeper\n",
       "6     Dobby          hero"
      ]
     },
     "execution_count": 80,
     "metadata": {},
     "output_type": "execute_result"
    }
   ],
   "source": [
    "import pandas as pd\n",
    "\n",
    "df = pd.read_csv(\"./work/33/8f17ffde4e687dd9c91ba9ed95ba5e/results/names.tsv\", sep=\"\\t\")\n",
    "df"
   ]
  },
  {
   "cell_type": "markdown",
   "metadata": {},
   "source": [
    "## Now, let's try some more advanced Operators"
   ]
  },
  {
   "cell_type": "markdown",
   "metadata": {},
   "source": [
    "Please answer the questions in $\\texttt{advanced\\_channel\\_operations.nf}$ and run the code here. "
   ]
  },
  {
   "cell_type": "markdown",
   "metadata": {},
   "source": [
    "To come closer to actual pipelines, we introduce the concept of \"meta-maps\" which you can imagine as dictionaries that are passed with data via channels containing crucial metadata on the sample. \n",
    "\n",
    "Also, we will come back to samplesheets which you should remember from last week."
   ]
  },
  {
   "cell_type": "code",
   "execution_count": 89,
   "metadata": {},
   "outputs": [
    {
     "name": "stdout",
     "output_type": "stream",
     "text": [
      "\n",
      "\u001b[1m\u001b[38;5;232m\u001b[48;5;43m N E X T F L O W \u001b[0;2m  ~  \u001b[mversion 25.04.7\u001b[m\n",
      "\u001b[K\n",
      "Launching\u001b[35m `advanced_channel_operations.nf` \u001b[0;2m[\u001b[0;1;36mconfident_shaw\u001b[0;2m] DSL2 - \u001b[36mrevision: \u001b[0;36m1c3268528c\u001b[m\n",
      "\u001b[K\n",
      "\u001b[2m[\u001b[0;34m-        \u001b[0;2m] \u001b[0;2m\u001b[mREAD_SAMPLESHEET\u001b[2m |\u001b[m 0 of 1\u001b[K\n",
      "\u001b[2A\n",
      "\u001b[2mexecutor >  local (1)\u001b[m\u001b[K\n",
      "\u001b[2m[\u001b[0;34m88/122a9f\u001b[0;2m] \u001b[0;2m\u001b[mREAD_SAMPLESHEET\u001b[2m |\u001b[m 0 of 1\u001b[K\n",
      "\u001b[3A\n",
      "\u001b[2mexecutor >  local (1)\u001b[m\u001b[K\n",
      "\u001b[2m[\u001b[0;34m88/122a9f\u001b[0;2m] \u001b[0;2m\u001b[mREAD_SAMPLESHEET\u001b[2m |\u001b[m 1 of 1\u001b[32m ✔\u001b[m\u001b[K\n",
      "         sample           fastq_1           fastq_2 strandedness\u001b[K\n",
      "0  CONTROL_REP1  fq_1_R1.fastq.gz  fq_1_R2.fastq.gz         auto\u001b[K\n",
      "1  CONTROL_REP2  fq_2_R1.fastq.gz  fq_2_R2.fastq.gz      forward\u001b[K\n",
      "2  CONTROL_REP3  fq_3_R1.fastq.gz  fq_3_R2.fastq.gz      reverse\u001b[K\n",
      "3  CONTROL_REP1  fq_4_R1.fastq.gz  fq_4_R2.fastq.gz         auto\u001b[K\n",
      "\u001b[K\n",
      "\u001b[9A\n",
      "\u001b[2mexecutor >  local (1)\u001b[m\u001b[K\n",
      "\u001b[2m[\u001b[0;34m88/122a9f\u001b[0;2m] \u001b[0;2m\u001b[mREAD_SAMPLESHEET\u001b[2m |\u001b[m 1 of 1\u001b[32m ✔\u001b[m\u001b[K\n",
      "         sample           fastq_1           fastq_2 strandedness\u001b[K\n",
      "0  CONTROL_REP1  fq_1_R1.fastq.gz  fq_1_R2.fastq.gz         auto\u001b[K\n",
      "1  CONTROL_REP2  fq_2_R1.fastq.gz  fq_2_R2.fastq.gz      forward\u001b[K\n",
      "2  CONTROL_REP3  fq_3_R1.fastq.gz  fq_3_R2.fastq.gz      reverse\u001b[K\n",
      "3  CONTROL_REP1  fq_4_R1.fastq.gz  fq_4_R2.fastq.gz         auto\u001b[K\n",
      "\u001b[K\n",
      "\n"
     ]
    }
   ],
   "source": [
    "# Task 1 - Read in the samplesheet.\n",
    "\n",
    "!nextflow run advanced_channel_operations.nf --step 1"
   ]
  },
  {
   "cell_type": "code",
   "execution_count": 2,
   "metadata": {},
   "outputs": [
    {
     "name": "stdout",
     "output_type": "stream",
     "text": [
      "\n",
      "\u001b[1m\u001b[38;5;232m\u001b[48;5;43m N E X T F L O W \u001b[0;2m  ~  \u001b[mversion 25.04.7\u001b[m\n",
      "\u001b[K\n",
      "Launching\u001b[35m `advanced_channel_operations.nf` \u001b[0;2m[\u001b[0;1;36mmad_morse\u001b[0;2m] DSL2 - \u001b[36mrevision: \u001b[0;36m28635eb774\u001b[m\n",
      "\u001b[K\n",
      "[[sample:CONTROL_REP1, strandedness:auto], [/home/clara/computational-workflows-2025/notebooks/day_04/fq_1_R1.fastq.gz, /home/clara/computational-workflows-2025/notebooks/day_04/fq_1_R2.fastq.gz]]\n",
      "[[sample:CONTROL_REP2, strandedness:forward], [/home/clara/computational-workflows-2025/notebooks/day_04/fq_2_R1.fastq.gz, /home/clara/computational-workflows-2025/notebooks/day_04/fq_2_R2.fastq.gz]]\n",
      "[[sample:CONTROL_REP3, strandedness:reverse], [/home/clara/computational-workflows-2025/notebooks/day_04/fq_3_R1.fastq.gz, /home/clara/computational-workflows-2025/notebooks/day_04/fq_3_R2.fastq.gz]]\n",
      "[[sample:CONTROL_REP1, strandedness:auto], [/home/clara/computational-workflows-2025/notebooks/day_04/fq_4_R1.fastq.gz, /home/clara/computational-workflows-2025/notebooks/day_04/fq_4_R2.fastq.gz]]\n"
     ]
    }
   ],
   "source": [
    "# Task 2 - Read in the samplesheet and create a meta-map with all metadata and another list with the filenames ([[metadata_1 : metadata_1, ...], [fastq_1, fastq_2]]).\n",
    "#          Set the output to a new channel \"in_ch\" and view the channel. YOU WILL NEED TO COPY AND PASTE THIS CODE INTO SOME OF THE FOLLOWING TASKS (sorry for that).\n",
    "\n",
    "!nextflow run advanced_channel_operations.nf --step 2"
   ]
  },
  {
   "cell_type": "code",
   "execution_count": 20,
   "metadata": {},
   "outputs": [
    {
     "name": "stdout",
     "output_type": "stream",
     "text": [
      "\n",
      "\u001b[1m\u001b[38;5;232m\u001b[48;5;43m N E X T F L O W \u001b[0;2m  ~  \u001b[mversion 25.04.7\u001b[m\n",
      "\u001b[K\n",
      "Launching\u001b[35m `advanced_channel_operations.nf` \u001b[0;2m[\u001b[0;1;36minfallible_boyd\u001b[0;2m] DSL2 - \u001b[36mrevision: \u001b[0;36m8d07e018ea\u001b[m\n",
      "\u001b[K\n",
      "Strandedness=auto | meta=[CONTROL_REP1, CONTROL_REP1] | reads=[[/home/clara/computational-workflows-2025/notebooks/day_04/fq_1_R1.fastq.gz, /home/clara/computational-workflows-2025/notebooks/day_04/fq_1_R2.fastq.gz], [/home/clara/computational-workflows-2025/notebooks/day_04/fq_4_R1.fastq.gz, /home/clara/computational-workflows-2025/notebooks/day_04/fq_4_R2.fastq.gz]]\n",
      "Strandedness=forward | meta=[CONTROL_REP2] | reads=[[/home/clara/computational-workflows-2025/notebooks/day_04/fq_2_R1.fastq.gz, /home/clara/computational-workflows-2025/notebooks/day_04/fq_2_R2.fastq.gz]]\n",
      "Strandedness=reverse | meta=[CONTROL_REP3] | reads=[[/home/clara/computational-workflows-2025/notebooks/day_04/fq_3_R1.fastq.gz, /home/clara/computational-workflows-2025/notebooks/day_04/fq_3_R2.fastq.gz]]\n"
     ]
    }
   ],
   "source": [
    "# Task 3 - Now we assume that we want to handle different \"strandedness\" values differently. \n",
    "#          Split the channel into the right amount of channels and write them all to stdout so that we can understand which is which.\n",
    "\n",
    "!nextflow run advanced_channel_operations.nf --step 3 -dump-channels"
   ]
  },
  {
   "cell_type": "code",
   "execution_count": 21,
   "metadata": {},
   "outputs": [
    {
     "name": "stdout",
     "output_type": "stream",
     "text": [
      "\n",
      "\u001b[1m\u001b[38;5;232m\u001b[48;5;43m N E X T F L O W \u001b[0;2m  ~  \u001b[mversion 25.04.7\u001b[m\n",
      "\u001b[K\n",
      "Launching\u001b[35m `advanced_channel_operations.nf` \u001b[0;2m[\u001b[0;1;36mmagical_magritte\u001b[0;2m] DSL2 - \u001b[36mrevision: \u001b[0;36m9ec2a01f46\u001b[m\n",
      "\u001b[K\n",
      "Strandedness=auto | meta=CONTROL_REP1 | reads=[[/home/clara/computational-workflows-2025/notebooks/day_04/fq_1_R1.fastq.gz, /home/clara/computational-workflows-2025/notebooks/day_04/fq_1_R2.fastq.gz], [/home/clara/computational-workflows-2025/notebooks/day_04/fq_4_R1.fastq.gz, /home/clara/computational-workflows-2025/notebooks/day_04/fq_4_R2.fastq.gz]]\n",
      "Strandedness=forward | meta=CONTROL_REP2 | reads=[[/home/clara/computational-workflows-2025/notebooks/day_04/fq_2_R1.fastq.gz, /home/clara/computational-workflows-2025/notebooks/day_04/fq_2_R2.fastq.gz]]\n",
      "Strandedness=reverse | meta=CONTROL_REP3 | reads=[[/home/clara/computational-workflows-2025/notebooks/day_04/fq_3_R1.fastq.gz, /home/clara/computational-workflows-2025/notebooks/day_04/fq_3_R2.fastq.gz]]\n"
     ]
    }
   ],
   "source": [
    "# Task 4 - Group together all files with the same sample-id and strandedness value.\n",
    "\n",
    "!nextflow run advanced_channel_operations.nf --step 4"
   ]
  },
  {
   "cell_type": "markdown",
   "metadata": {},
   "source": [
    "## It's finally time to link processes and channels with each other"
   ]
  },
  {
   "cell_type": "markdown",
   "metadata": {},
   "source": [
    "Please go to the file $\\texttt{link\\_p\\_c.nf}$"
   ]
  },
  {
   "cell_type": "code",
   "execution_count": 17,
   "metadata": {},
   "outputs": [
    {
     "name": "stdout",
     "output_type": "stream",
     "text": [
      "\u001b[33mNextflow 25.04.8 is available - Please consider updating your version to it\u001b[m\n",
      "\n",
      "\u001b[1m\u001b[38;5;232m\u001b[48;5;43m N E X T F L O W \u001b[0;2m  ~  \u001b[mversion 25.04.7\u001b[m\n",
      "\u001b[K\n",
      "Launching\u001b[35m `link_p_c.nf` \u001b[0;2m[\u001b[0;1;36mnauseous_torricelli\u001b[0;2m] DSL2 - \u001b[36mrevision: \u001b[0;36m95c3dea00a\u001b[m\n",
      "\u001b[K\n",
      "\u001b[2m[\u001b[0;34m-        \u001b[0;2m] \u001b[0;2m\u001b[mSPLITLETTERS  \u001b[2m |\u001b[m 0 of 2\u001b[K\n",
      "\u001b[2m[\u001b[0;34m-        \u001b[0;2m] \u001b[0;2m\u001b[mCONVERTTOUPPER -\u001b[K\n",
      "\u001b[3A\n",
      "\u001b[2mexecutor >  local (2)\u001b[m\u001b[K\n",
      "\u001b[2m[\u001b[0;34m5d/a5fd10\u001b[0;2m] \u001b[0;2m\u001b[mSPLITLETTERS\u001b[33;2m (\u001b[0;33mc_w\u001b[2m)\u001b[m\u001b[2m |\u001b[m 0 of 2\u001b[K\n",
      "\u001b[2m[\u001b[0;34m-        \u001b[0;2m] \u001b[0;2m\u001b[mCONVERTTOUPPER     -\u001b[K\n",
      "\u001b[4A\n",
      "\u001b[2mexecutor >  local (13)\u001b[m\u001b[K\n",
      "\u001b[2m[\u001b[0;34mc4/f1f00d\u001b[0;2m] \u001b[0;2m\u001b[mSPLITLETTERS\u001b[33;2m (\u001b[0;33mh_w\u001b[2m)\u001b[m            \u001b[2m |\u001b[m 2 of 2\u001b[32m ✔\u001b[m\u001b[K\n",
      "\u001b[2m[\u001b[0;34m32/c8a8d4\u001b[0;2m] \u001b[0;2m\u001b[mCON…TTOUPPER\u001b[33;2m (\u001b[0;33mc_w_block_6.txt\u001b[2m)\u001b[m\u001b[2m |\u001b[m 8 of 11\u001b[K\n",
      "Uppercase:\u001b[K\n",
      "HELL\u001b[K\n",
      "\u001b[K\n",
      "Uppercase:\u001b[K\n",
      "PUT\u001b[K\n",
      "\u001b[K\n",
      "Uppercase:\u001b[K\n",
      "ATI\u001b[K\n",
      "\u001b[K\n",
      "Uppercase:\u001b[K\n",
      "RLD\u001b[K\n",
      "\u001b[K\n",
      "Uppercase:\u001b[K\n",
      "COM\u001b[K\n",
      "\u001b[K\n",
      "Uppercase:\u001b[K\n",
      "WS\u001b[K\n",
      "\u001b[K\n",
      "Uppercase:\u001b[K\n",
      "L W\u001b[K\n",
      "\u001b[K\n",
      "Uppercase:\u001b[K\n",
      "FLO\u001b[K\n",
      "\u001b[K\n",
      "Uppercase:\u001b[K\n",
      "ORK\u001b[K\n",
      "\u001b[K\n",
      "Uppercase:\u001b[K\n",
      "ONA\u001b[K\n",
      "\u001b[K\n",
      "\u001b[34A\n",
      "\u001b[2mexecutor >  local (13)\u001b[m\u001b[K\n",
      "\u001b[2m[\u001b[0;34mc4/f1f00d\u001b[0;2m] \u001b[0;2m\u001b[mSPLITLETTERS\u001b[33;2m (\u001b[0;33mh_w\u001b[2m)\u001b[m            \u001b[2m |\u001b[m 2 of 2\u001b[32m ✔\u001b[m\u001b[K\n",
      "\u001b[2m[\u001b[0;34m1d/f4ab21\u001b[0;2m] \u001b[0;2m\u001b[mCON…TTOUPPER\u001b[33;2m (\u001b[0;33mh_w_block_1.txt\u001b[2m)\u001b[m\u001b[2m |\u001b[m 11 of 11\u001b[32m ✔\u001b[m\u001b[K\n",
      "Uppercase:\u001b[K\n",
      "HELL\u001b[K\n",
      "\u001b[K\n",
      "Uppercase:\u001b[K\n",
      "PUT\u001b[K\n",
      "\u001b[K\n",
      "Uppercase:\u001b[K\n",
      "ATI\u001b[K\n",
      "\u001b[K\n",
      "Uppercase:\u001b[K\n",
      "RLD\u001b[K\n",
      "\u001b[K\n",
      "Uppercase:\u001b[K\n",
      "COM\u001b[K\n",
      "\u001b[K\n",
      "Uppercase:\u001b[K\n",
      "WS\u001b[K\n",
      "\u001b[K\n",
      "Uppercase:\u001b[K\n",
      "L W\u001b[K\n",
      "\u001b[K\n",
      "Uppercase:\u001b[K\n",
      "FLO\u001b[K\n",
      "\u001b[K\n",
      "Uppercase:\u001b[K\n",
      "ORK\u001b[K\n",
      "\u001b[K\n",
      "Uppercase:\u001b[K\n",
      "ONA\u001b[K\n",
      "\u001b[K\n",
      "Uppercase:\u001b[K\n",
      "O WO\u001b[K\n",
      "\u001b[K\n",
      "\n"
     ]
    }
   ],
   "source": [
    "# I introduced steps like above\n",
    "\n",
    "!nextflow run link_p_c.nf --step 1"
   ]
  },
  {
   "cell_type": "markdown",
   "metadata": {},
   "source": [
    "### Give a list with the paths to the chunk files"
   ]
  },
  {
   "cell_type": "code",
   "execution_count": 18,
   "metadata": {},
   "outputs": [
    {
     "name": "stdout",
     "output_type": "stream",
     "text": [
      "\u001b[33mNextflow 25.04.8 is available - Please consider updating your version to it\u001b[m\n",
      "\n",
      "\u001b[1m\u001b[38;5;232m\u001b[48;5;43m N E X T F L O W \u001b[0;2m  ~  \u001b[mversion 25.04.7\u001b[m\n",
      "\u001b[K\n",
      "Launching\u001b[35m `link_p_c.nf` \u001b[0;2m[\u001b[0;1;36mdetermined_lattes\u001b[0;2m] DSL2 - \u001b[36mrevision: \u001b[0;36mc9a3e143b5\u001b[m\n",
      "\u001b[K\n",
      "[/home/clara/computational-workflows-2025/notebooks/day_04/results/c_w_block_6_upper.txt, /home/clara/computational-workflows-2025/notebooks/day_04/results/c_w_block_3_upper.txt, /home/clara/computational-workflows-2025/notebooks/day_04/results/c_w_block_2_upper.txt, /home/clara/computational-workflows-2025/notebooks/day_04/results/c_w_block_4_upper.txt, /home/clara/computational-workflows-2025/notebooks/day_04/results/c_w_block_0_upper.txt, /home/clara/computational-workflows-2025/notebooks/day_04/results/h_w_block_0_upper.txt, /home/clara/computational-workflows-2025/notebooks/day_04/results/c_w_block_1_upper.txt, /home/clara/computational-workflows-2025/notebooks/day_04/results/c_w_block_5_upper.txt, /home/clara/computational-workflows-2025/notebooks/day_04/results/h_w_block_2_upper.txt, /home/clara/computational-workflows-2025/notebooks/day_04/results/c_w_block_7_upper.txt, /home/clara/computational-workflows-2025/notebooks/day_04/results/h_w_block_1_upper.txt]\n"
     ]
    }
   ],
   "source": [
    "!nextflow run link_p_c.nf --step 2"
   ]
  },
  {
   "cell_type": "markdown",
   "metadata": {},
   "source": [
    "### Why was CONVERTTOUPPER run so often?"
   ]
  },
  {
   "cell_type": "markdown",
   "metadata": {},
   "source": [
    "Because it is run on the 11 chunk files individually"
   ]
  },
  {
   "cell_type": "code",
   "execution_count": null,
   "metadata": {},
   "outputs": [],
   "source": []
  },
  {
   "cell_type": "code",
   "execution_count": null,
   "metadata": {},
   "outputs": [],
   "source": []
  },
  {
   "cell_type": "code",
   "execution_count": null,
   "metadata": {},
   "outputs": [],
   "source": []
  },
  {
   "cell_type": "code",
   "execution_count": null,
   "metadata": {},
   "outputs": [],
   "source": []
  },
  {
   "cell_type": "code",
   "execution_count": null,
   "metadata": {},
   "outputs": [],
   "source": []
  },
  {
   "cell_type": "code",
   "execution_count": null,
   "metadata": {},
   "outputs": [],
   "source": []
  },
  {
   "cell_type": "code",
   "execution_count": null,
   "metadata": {},
   "outputs": [],
   "source": []
  },
  {
   "cell_type": "code",
   "execution_count": null,
   "metadata": {},
   "outputs": [],
   "source": []
  },
  {
   "cell_type": "code",
   "execution_count": null,
   "metadata": {},
   "outputs": [],
   "source": []
  },
  {
   "cell_type": "code",
   "execution_count": null,
   "metadata": {},
   "outputs": [],
   "source": []
  },
  {
   "cell_type": "code",
   "execution_count": null,
   "metadata": {},
   "outputs": [],
   "source": []
  },
  {
   "cell_type": "code",
   "execution_count": null,
   "metadata": {},
   "outputs": [],
   "source": []
  }
 ],
 "metadata": {
  "kernelspec": {
   "display_name": "workflows",
   "language": "python",
   "name": "python3"
  },
  "language_info": {
   "codemirror_mode": {
    "name": "ipython",
    "version": 3
   },
   "file_extension": ".py",
   "mimetype": "text/x-python",
   "name": "python",
   "nbconvert_exporter": "python",
   "pygments_lexer": "ipython3",
   "version": "3.13.7"
  }
 },
 "nbformat": 4,
 "nbformat_minor": 2
}
